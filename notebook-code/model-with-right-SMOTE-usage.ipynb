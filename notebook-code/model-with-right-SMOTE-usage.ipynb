{
 "cells": [
  {
   "cell_type": "code",
   "execution_count": 1,
   "id": "bf685804",
   "metadata": {},
   "outputs": [],
   "source": [
    "import pandas as pd\n",
    "import numpy as np\n",
    "import matplotlib.pyplot as plt\n",
    "import seaborn as sns\n",
    "\n",
    "# ------------Split Train and Test Data----------\n",
    "from sklearn.model_selection import train_test_split\n",
    "\n",
    "# -----Classification ML Algorithms--------------\n",
    "from sklearn.linear_model import LinearRegression\n",
    "from sklearn.linear_model import LogisticRegression\n",
    "from sklearn.tree import DecisionTreeClassifier\n",
    "from sklearn.discriminant_analysis import LinearDiscriminantAnalysis\n",
    "from sklearn.naive_bayes import GaussianNB \n",
    "\n",
    "from sklearn.ensemble import RandomForestClassifier\n",
    "from sklearn.ensemble import GradientBoostingClassifier\n",
    "from sklearn.ensemble import AdaBoostClassifier\n",
    "from sklearn.ensemble import BaggingClassifier\n",
    "from sklearn.ensemble import VotingClassifier\n",
    "\n",
    "from sklearn.svm import SVC \n",
    "\n",
    "from sklearn.neighbors import KNeighborsClassifier\n",
    "\n",
    "# ----------HyperParameter Tuning --------------\n",
    "from sklearn.model_selection import GridSearchCV\n",
    "\n",
    "# ---------Evaluating Performance Metrics-------\n",
    "from sklearn import metrics\n",
    "from sklearn.metrics import classification_report\n",
    "from sklearn.metrics import roc_auc_score\n",
    "from sklearn.metrics import accuracy_score\n",
    "from sklearn.metrics import precision_recall_curve\n",
    "from sklearn.metrics import precision_score, recall_score, f1_score\n",
    "from sklearn.metrics import confusion_matrix\n",
    "\n",
    "# ---------SMOTE for OvrSampling----------------\n",
    "from imblearn.over_sampling import SMOTE\n",
    "\n",
    "# --------Supress Future Warning----------------\n",
    "import warnings\n",
    "warnings.filterwarnings(\"ignore\")"
   ]
  },
  {
   "cell_type": "code",
   "execution_count": 2,
   "id": "10da39aa",
   "metadata": {},
   "outputs": [],
   "source": [
    "df = pd.read_csv('../data/AfterDataCleaning.csv')"
   ]
  },
  {
   "cell_type": "code",
   "execution_count": 3,
   "id": "9493e7d5",
   "metadata": {},
   "outputs": [
    {
     "data": {
      "text/html": [
       "<div>\n",
       "<style scoped>\n",
       "    .dataframe tbody tr th:only-of-type {\n",
       "        vertical-align: middle;\n",
       "    }\n",
       "\n",
       "    .dataframe tbody tr th {\n",
       "        vertical-align: top;\n",
       "    }\n",
       "\n",
       "    .dataframe thead th {\n",
       "        text-align: right;\n",
       "    }\n",
       "</style>\n",
       "<table border=\"1\" class=\"dataframe\">\n",
       "  <thead>\n",
       "    <tr style=\"text-align: right;\">\n",
       "      <th></th>\n",
       "      <th>year</th>\n",
       "      <th>customer_id</th>\n",
       "      <th>gender</th>\n",
       "      <th>age</th>\n",
       "      <th>no_of_days_subscribed</th>\n",
       "      <th>multi_screen</th>\n",
       "      <th>mail_subscribed</th>\n",
       "      <th>weekly_mins_watched</th>\n",
       "      <th>minimum_daily_mins</th>\n",
       "      <th>maximum_daily_mins</th>\n",
       "      <th>weekly_max_night_mins</th>\n",
       "      <th>videos_watched</th>\n",
       "      <th>maximum_days_inactive</th>\n",
       "      <th>customer_support_calls</th>\n",
       "      <th>churn</th>\n",
       "    </tr>\n",
       "  </thead>\n",
       "  <tbody>\n",
       "    <tr>\n",
       "      <th>0</th>\n",
       "      <td>2015</td>\n",
       "      <td>100198</td>\n",
       "      <td>0</td>\n",
       "      <td>36</td>\n",
       "      <td>62</td>\n",
       "      <td>0</td>\n",
       "      <td>0</td>\n",
       "      <td>148.35</td>\n",
       "      <td>12.2</td>\n",
       "      <td>16.81</td>\n",
       "      <td>82</td>\n",
       "      <td>1</td>\n",
       "      <td>4.0</td>\n",
       "      <td>1</td>\n",
       "      <td>0</td>\n",
       "    </tr>\n",
       "    <tr>\n",
       "      <th>1</th>\n",
       "      <td>2015</td>\n",
       "      <td>100643</td>\n",
       "      <td>0</td>\n",
       "      <td>39</td>\n",
       "      <td>149</td>\n",
       "      <td>0</td>\n",
       "      <td>0</td>\n",
       "      <td>294.45</td>\n",
       "      <td>7.7</td>\n",
       "      <td>33.37</td>\n",
       "      <td>87</td>\n",
       "      <td>3</td>\n",
       "      <td>3.0</td>\n",
       "      <td>2</td>\n",
       "      <td>0</td>\n",
       "    </tr>\n",
       "    <tr>\n",
       "      <th>2</th>\n",
       "      <td>2015</td>\n",
       "      <td>100756</td>\n",
       "      <td>0</td>\n",
       "      <td>65</td>\n",
       "      <td>126</td>\n",
       "      <td>0</td>\n",
       "      <td>0</td>\n",
       "      <td>87.30</td>\n",
       "      <td>11.9</td>\n",
       "      <td>9.89</td>\n",
       "      <td>91</td>\n",
       "      <td>1</td>\n",
       "      <td>4.0</td>\n",
       "      <td>5</td>\n",
       "      <td>1</td>\n",
       "    </tr>\n",
       "    <tr>\n",
       "      <th>3</th>\n",
       "      <td>2015</td>\n",
       "      <td>101595</td>\n",
       "      <td>0</td>\n",
       "      <td>24</td>\n",
       "      <td>131</td>\n",
       "      <td>0</td>\n",
       "      <td>1</td>\n",
       "      <td>321.30</td>\n",
       "      <td>9.5</td>\n",
       "      <td>36.41</td>\n",
       "      <td>102</td>\n",
       "      <td>4</td>\n",
       "      <td>3.0</td>\n",
       "      <td>3</td>\n",
       "      <td>0</td>\n",
       "    </tr>\n",
       "    <tr>\n",
       "      <th>4</th>\n",
       "      <td>2015</td>\n",
       "      <td>101653</td>\n",
       "      <td>0</td>\n",
       "      <td>40</td>\n",
       "      <td>191</td>\n",
       "      <td>0</td>\n",
       "      <td>0</td>\n",
       "      <td>243.00</td>\n",
       "      <td>10.9</td>\n",
       "      <td>27.54</td>\n",
       "      <td>83</td>\n",
       "      <td>7</td>\n",
       "      <td>3.0</td>\n",
       "      <td>1</td>\n",
       "      <td>0</td>\n",
       "    </tr>\n",
       "  </tbody>\n",
       "</table>\n",
       "</div>"
      ],
      "text/plain": [
       "   year  customer_id  gender  age  no_of_days_subscribed  multi_screen  \\\n",
       "0  2015       100198       0   36                     62             0   \n",
       "1  2015       100643       0   39                    149             0   \n",
       "2  2015       100756       0   65                    126             0   \n",
       "3  2015       101595       0   24                    131             0   \n",
       "4  2015       101653       0   40                    191             0   \n",
       "\n",
       "   mail_subscribed  weekly_mins_watched  minimum_daily_mins  \\\n",
       "0                0               148.35                12.2   \n",
       "1                0               294.45                 7.7   \n",
       "2                0                87.30                11.9   \n",
       "3                1               321.30                 9.5   \n",
       "4                0               243.00                10.9   \n",
       "\n",
       "   maximum_daily_mins  weekly_max_night_mins  videos_watched  \\\n",
       "0               16.81                     82               1   \n",
       "1               33.37                     87               3   \n",
       "2                9.89                     91               1   \n",
       "3               36.41                    102               4   \n",
       "4               27.54                     83               7   \n",
       "\n",
       "   maximum_days_inactive  customer_support_calls  churn  \n",
       "0                    4.0                       1      0  \n",
       "1                    3.0                       2      0  \n",
       "2                    4.0                       5      1  \n",
       "3                    3.0                       3      0  \n",
       "4                    3.0                       1      0  "
      ]
     },
     "execution_count": 3,
     "metadata": {},
     "output_type": "execute_result"
    }
   ],
   "source": [
    "df.head()"
   ]
  },
  {
   "cell_type": "code",
   "execution_count": 4,
   "id": "434dc17f",
   "metadata": {},
   "outputs": [
    {
     "name": "stdout",
     "output_type": "stream",
     "text": [
      "Shape of X_train is- (1375, 14)\n",
      "Shape of X_test is- (590, 14)\n",
      "Shape of y_train is- (1375,)\n",
      "Shape of y_test is- (590,)\n"
     ]
    }
   ],
   "source": [
    "X = df.drop('churn',axis=1)\n",
    "Y = df['churn']\n",
    "\n",
    "X_train, X_test, y_train, y_test = train_test_split(X,Y, test_size=0.3, random_state=1234)\n",
    "\n",
    "print(f'Shape of X_train is- {X_train.shape}')\n",
    "print(f'Shape of X_test is- {X_test.shape}')\n",
    "print(f'Shape of y_train is- {y_train.shape}')\n",
    "print(f'Shape of y_test is- {y_test.shape}')"
   ]
  },
  {
   "cell_type": "code",
   "execution_count": 5,
   "id": "7f0f1910",
   "metadata": {},
   "outputs": [
    {
     "name": "stdout",
     "output_type": "stream",
     "text": [
      "Revised Shape of X_train is- (1558, 14)\n",
      "Revised Shape of y_train is- (1558,)\n"
     ]
    }
   ],
   "source": [
    "sm = SMOTE(sampling_strategy=0.3, random_state=123)\n",
    "X_train, y_train = sm.fit_resample(X_train, y_train.ravel(),)\n",
    "\n",
    "print(f'Revised Shape of X_train is- {X_train.shape}')\n",
    "print(f'Revised Shape of y_train is- {y_train.shape}')"
   ]
  },
  {
   "cell_type": "code",
   "execution_count": 6,
   "id": "4ea9a080",
   "metadata": {},
   "outputs": [],
   "source": [
    "##  Function to calculate different metric scores of the model - Accuracy, Recall and Precision\n",
    "def get_metrics_score(model, X_training_data, X_test_data, Y_training_data, Y_test_data, flag=True):\n",
    "    '''\n",
    "    model : classifier to predict values of X\n",
    "\n",
    "    '''\n",
    "    # defining an empty list to store train and test results\n",
    "    score_list=[] \n",
    "    \n",
    "    pred_train = model.predict(X_training_data)\n",
    "    pred_test = model.predict(X_test_data)\n",
    "    \n",
    "    train_acc = accuracy_score(Y_training_data, pred_train)\n",
    "    test_acc = accuracy_score(Y_test_data, pred_test)\n",
    "    \n",
    "    train_recall = recall_score(Y_training_data,pred_train)\n",
    "    test_recall = recall_score(Y_test_data,pred_test)\n",
    "    \n",
    "    train_precision = precision_score(Y_training_data,pred_train)\n",
    "    test_precision = precision_score(Y_test_data,pred_test)\n",
    "    \n",
    "    train_f1 = f1_score(Y_training_data,pred_train)\n",
    "    test_f1 = f1_score(Y_test_data,pred_test)\n",
    "\n",
    "    score_list.extend((train_acc,test_acc,train_recall,test_recall,train_precision,test_precision,train_f1,test_f1))\n",
    "    \n",
    "    # If the flag is set to True then only the following print statements will be dispayed. The default value is set to True.\n",
    "    if flag == True: \n",
    "        print(\"Accuracy on training set : \",accuracy_score(Y_training_data,pred_train))\n",
    "        print(\"Accuracy on test set : \",accuracy_score(Y_test_data,pred_test))\n",
    "        print(\"Recall on training set : \",recall_score(Y_training_data,pred_train))\n",
    "        print(\"Recall on test set : \",recall_score(Y_test_data,pred_test))\n",
    "        print(\"Precision on training set : \",precision_score(Y_training_data,pred_train))\n",
    "        print(\"Precision on test set : \",precision_score(Y_test_data,pred_test))\n",
    "        print(\"F1-Score on training set : \",f1_score(Y_training_data,pred_train))\n",
    "        print(\"F1-Score on test set : \",f1_score(Y_test_data,pred_test))\n",
    "    \n",
    "    return score_list # returning the list with train and test scores"
   ]
  },
  {
   "cell_type": "code",
   "execution_count": 7,
   "id": "b0d744a5",
   "metadata": {},
   "outputs": [],
   "source": [
    "def get_summary_of_models(models):\n",
    "    # defining list of models\n",
    "\n",
    "    # defining empty lists to add train and test results\n",
    "    acc_train = []\n",
    "    acc_test = []\n",
    "    recall_train = []\n",
    "    recall_test = []\n",
    "    precision_train = []\n",
    "    precision_test = []\n",
    "    f1_train =[]\n",
    "    f1_test = []\n",
    "    roc_auc_train = []\n",
    "    roc_auc_test = []\n",
    "    \n",
    "    # looping through all the models to get the accuracy, precall and precision scores\n",
    "    for idx,model in enumerate(models):\n",
    "            #print(model)\n",
    "            j = get_metrics_score(model,X_train, X_test, y_train, y_test,False)\n",
    "            acc_train.append(np.round(j[0],2))\n",
    "            acc_test.append(np.round(j[1],2))\n",
    "            recall_train.append(np.round(j[2],2))\n",
    "            recall_test.append(np.round(j[3],2))\n",
    "            precision_train.append(np.round(j[4],2))\n",
    "            precision_test.append(np.round(j[5],2))\n",
    "            f1_train.append(np.round(j[6],2))\n",
    "            f1_test.append(np.round(j[7],2))\n",
    "    \n",
    "    model_metrics = pd.DataFrame({'TrainAccuracy': acc_train, 'TestAccuracy': acc_test, 'Train_Recall':recall_train, \n",
    "                                  'TestRecall':recall_test, 'TrainPrecision':precision_train, 'TestPrecision':precision_test, \n",
    "                                  'TrainF1Score':f1_train, 'TestF1Score':f1_test\n",
    "                                 })\n",
    "    \n",
    "    return model_metrics"
   ]
  },
  {
   "cell_type": "code",
   "execution_count": 8,
   "id": "d765eb38",
   "metadata": {},
   "outputs": [],
   "source": [
    "##  Function to calculate different metric scores of the model - Accuracy, Recall and Precision\n",
    "def get_ROC_AUC_score(model, X_training_data, X_test_data, Y_training_data, Y_test_data, flag=True):\n",
    "    '''\n",
    "    model : classifier to predict values of X\n",
    "\n",
    "    '''\n",
    "    # defining an empty list to store train and test results\n",
    "    score_list=[] \n",
    "    \n",
    "    pred_train_prob = model.predict_proba(X_training_data)\n",
    "    pred_train_prob = pred_train_prob[:,1]\n",
    "    train_auc = roc_auc_score(Y_training_data, pred_train_prob)\n",
    "    pred_test_prob = model.predict_proba(X_test_data)\n",
    "    pred_test_prob = pred_test_prob[:,1]\n",
    "    test_auc = roc_auc_score(Y_test_data,pred_test_prob)\n",
    "\n",
    "    score_list.extend((train_auc,test_auc))\n",
    "    \n",
    "    # If the flag is set to True then only the following print statements will be dispayed. The default value is set to True.\n",
    "    if flag == True:    \n",
    "        print(\"ROC AUC Score on training set : \",roc_auc_score(Y_training_data,pred_train_prob))\n",
    "        print(\"ROC AUC Score on test set : \",roc_auc_score(Y_test_data,pred_test_prob))\n",
    "        \n",
    "    return score_list"
   ]
  },
  {
   "cell_type": "code",
   "execution_count": 9,
   "id": "eaf380d1",
   "metadata": {},
   "outputs": [],
   "source": [
    "def get_ROC_AUC_score_of_models(models):\n",
    "    # defining list of models\n",
    "\n",
    "    roc_auc_train = []\n",
    "    roc_auc_test = []\n",
    "    \n",
    "    # looping through all the models to get the accuracy, precall and precision scores\n",
    "    for idx,model in enumerate(models):\n",
    "            #print(model)\n",
    "            j = get_ROC_AUC_score(model,X_train, X_test, y_train, y_test,False)\n",
    "            roc_auc_train.append(np.round(j[0],2))\n",
    "            roc_auc_test.append(np.round(j[1],2))\n",
    "    \n",
    "    model_auc_score = pd.DataFrame({'Train ROC-AUC Score': roc_auc_train, 'Test ROC-AUC Score': roc_auc_test})\n",
    "    \n",
    "    return model_auc_score"
   ]
  },
  {
   "cell_type": "markdown",
   "id": "b0ef2ba9",
   "metadata": {},
   "source": [
    "## 1. Logistic Regression"
   ]
  },
  {
   "cell_type": "code",
   "execution_count": 10,
   "id": "0e7b936c",
   "metadata": {},
   "outputs": [
    {
     "name": "stdout",
     "output_type": "stream",
     "text": [
      "Accuracy on training set :  0.7753530166880617\n",
      "Accuracy on test set :  0.8610169491525423\n",
      "Recall on training set :  0.033426183844011144\n",
      "Recall on test set :  0.046511627906976744\n",
      "Precision on training set :  0.8\n",
      "Precision on test set :  1.0\n",
      "F1-Score on training set :  0.0641711229946524\n",
      "F1-Score on test set :  0.08888888888888888\n"
     ]
    }
   ],
   "source": [
    "lr_model = LogisticRegression()\n",
    "lr_model.fit(X_train,y_train)\n",
    "y_lr_train_predicted = lr_model.predict(X_train)\n",
    "y_lr_test_predicted = lr_model.predict(X_test)\n",
    "metrics.accuracy_score(y_train,y_lr_train_predicted)\n",
    "#Using above defined function to get accuracy, recall and precision on train and test set\n",
    "lr_score=get_metrics_score(lr_model, X_train, X_test, y_train, y_test)"
   ]
  },
  {
   "cell_type": "code",
   "execution_count": 11,
   "id": "69735616",
   "metadata": {},
   "outputs": [
    {
     "name": "stdout",
     "output_type": "stream",
     "text": [
      "Classification Report for Training Data- \n",
      "               precision    recall  f1-score   support\n",
      "\n",
      "           0       0.78      1.00      0.87      1199\n",
      "           1       0.80      0.03      0.06       359\n",
      "\n",
      "    accuracy                           0.78      1558\n",
      "   macro avg       0.79      0.52      0.47      1558\n",
      "weighted avg       0.78      0.78      0.69      1558\n",
      "\n",
      "\n",
      "Classification Report for Test Data- \n",
      "               precision    recall  f1-score   support\n",
      "\n",
      "           0       0.86      1.00      0.92       504\n",
      "           1       1.00      0.05      0.09        86\n",
      "\n",
      "    accuracy                           0.86       590\n",
      "   macro avg       0.93      0.52      0.51       590\n",
      "weighted avg       0.88      0.86      0.80       590\n",
      "\n",
      "Confusion matrix for the train Data- \n",
      " [[1196    3]\n",
      " [ 347   12]]\n",
      "\n",
      "Confusion matrix for the test Data- \n",
      " [[504   0]\n",
      " [ 82   4]]\n"
     ]
    }
   ],
   "source": [
    "print('Classification Report for Training Data- \\n',classification_report(y_train, y_lr_train_predicted))\n",
    "print('\\nClassification Report for Test Data- \\n',classification_report(y_test, y_lr_test_predicted))\n",
    "print('Confusion matrix for the train Data- \\n',confusion_matrix(y_train, y_lr_train_predicted))\n",
    "print('\\nConfusion matrix for the test Data- \\n',confusion_matrix(y_test, y_lr_test_predicted))"
   ]
  },
  {
   "cell_type": "markdown",
   "id": "1bc45115",
   "metadata": {},
   "source": [
    "## 2. Linear Discriminant Analysis"
   ]
  },
  {
   "cell_type": "code",
   "execution_count": 12,
   "id": "35047752",
   "metadata": {},
   "outputs": [
    {
     "name": "stdout",
     "output_type": "stream",
     "text": [
      "Accuracy on training set :  0.7926829268292683\n",
      "Accuracy on test set :  0.8694915254237288\n",
      "Recall on training set :  0.2841225626740947\n",
      "Recall on test set :  0.313953488372093\n",
      "Precision on training set :  0.6071428571428571\n",
      "Precision on test set :  0.6\n",
      "F1-Score on training set :  0.3870967741935483\n",
      "F1-Score on test set :  0.41221374045801523\n"
     ]
    }
   ],
   "source": [
    "lda_model = LinearDiscriminantAnalysis(n_components=1)\n",
    "lda_model.fit(X_train,y_train)\n",
    "y_lda_train_predicted = lda_model.predict(X_train)\n",
    "y_lda_test_predicted = lda_model.predict(X_test)\n",
    "\n",
    "#Using above defined function to get accuracy, recall and precision on train and test set\n",
    "lda_score=get_metrics_score(lda_model, X_train, X_test, y_train, y_test)"
   ]
  },
  {
   "cell_type": "code",
   "execution_count": 13,
   "id": "b92f87c8",
   "metadata": {},
   "outputs": [
    {
     "name": "stdout",
     "output_type": "stream",
     "text": [
      "Classification Report for Training Data- \n",
      "               precision    recall  f1-score   support\n",
      "\n",
      "           0       0.82      0.94      0.88      1199\n",
      "           1       0.61      0.28      0.39       359\n",
      "\n",
      "    accuracy                           0.79      1558\n",
      "   macro avg       0.71      0.61      0.63      1558\n",
      "weighted avg       0.77      0.79      0.76      1558\n",
      "\n",
      "\n",
      "Classification Report for Test Data- \n",
      "               precision    recall  f1-score   support\n",
      "\n",
      "           0       0.89      0.96      0.93       504\n",
      "           1       0.60      0.31      0.41        86\n",
      "\n",
      "    accuracy                           0.87       590\n",
      "   macro avg       0.75      0.64      0.67       590\n",
      "weighted avg       0.85      0.87      0.85       590\n",
      "\n",
      "Confusion matrix for the train data- \n",
      " [[1133   66]\n",
      " [ 257  102]]\n",
      "\n",
      "Confusion matrix for the test data- \n",
      " [[486  18]\n",
      " [ 59  27]]\n"
     ]
    }
   ],
   "source": [
    "print('Classification Report for Training Data- \\n',classification_report(y_train, y_lda_train_predicted))\n",
    "print('\\nClassification Report for Test Data- \\n',classification_report(y_test, y_lda_test_predicted))\n",
    "print('Confusion matrix for the train data- \\n',confusion_matrix(y_train, y_lda_train_predicted))\n",
    "print('\\nConfusion matrix for the test data- \\n',confusion_matrix(y_test, y_lda_test_predicted))"
   ]
  },
  {
   "cell_type": "markdown",
   "id": "c3ed3efa",
   "metadata": {},
   "source": [
    "## 3 Gaussian Naive Bayes"
   ]
  },
  {
   "cell_type": "code",
   "execution_count": 14,
   "id": "82cd96fb",
   "metadata": {},
   "outputs": [
    {
     "name": "stdout",
     "output_type": "stream",
     "text": [
      "Accuracy on training set :  0.7798459563543004\n",
      "Accuracy on test set :  0.8627118644067797\n",
      "Recall on training set :  0.18384401114206128\n",
      "Recall on test set :  0.2558139534883721\n",
      "Precision on training set :  0.5689655172413793\n",
      "Precision on test set :  0.5641025641025641\n",
      "F1-Score on training set :  0.27789473684210525\n",
      "F1-Score on test set :  0.35200000000000004\n"
     ]
    }
   ],
   "source": [
    "GNB_model = GaussianNB()\n",
    "GNB_model.fit(X_train, y_train)\n",
    "\n",
    "# make predictions for train data\n",
    "y_gnb_train_predicted = GNB_model.predict(X_train)\n",
    "# make predictions for test data\n",
    "y_gnb_test_predicted = GNB_model.predict(X_test)\n",
    "#Using above defined function to get accuracy, recall and precision on train and test set\n",
    "gnb_score=get_metrics_score(GNB_model, X_train, X_test, y_train, y_test)"
   ]
  },
  {
   "cell_type": "code",
   "execution_count": 15,
   "id": "b83408eb",
   "metadata": {},
   "outputs": [
    {
     "name": "stdout",
     "output_type": "stream",
     "text": [
      "Classification Report for Training Data- \n",
      "               precision    recall  f1-score   support\n",
      "\n",
      "           0       0.80      0.96      0.87      1199\n",
      "           1       0.57      0.18      0.28       359\n",
      "\n",
      "    accuracy                           0.78      1558\n",
      "   macro avg       0.68      0.57      0.57      1558\n",
      "weighted avg       0.74      0.78      0.73      1558\n",
      "\n",
      "\n",
      "Classification Report for Test Data- \n",
      "               precision    recall  f1-score   support\n",
      "\n",
      "           0       0.88      0.97      0.92       504\n",
      "           1       0.56      0.26      0.35        86\n",
      "\n",
      "    accuracy                           0.86       590\n",
      "   macro avg       0.72      0.61      0.64       590\n",
      "weighted avg       0.84      0.86      0.84       590\n",
      "\n",
      "Confusion matrix for the train data- \n",
      " [[1149   50]\n",
      " [ 293   66]]\n",
      "\n",
      "Confusion matrix for the test data- \n",
      " [[487  17]\n",
      " [ 64  22]]\n"
     ]
    }
   ],
   "source": [
    "# summarize the fit of the model\n",
    "print('Classification Report for Training Data- \\n',classification_report(y_train, y_gnb_train_predicted))\n",
    "print('\\nClassification Report for Test Data- \\n',classification_report(y_test, y_gnb_test_predicted))\n",
    "print('Confusion matrix for the train data- \\n',confusion_matrix(y_train, y_gnb_train_predicted))\n",
    "print('\\nConfusion matrix for the test data- \\n',confusion_matrix(y_test, y_gnb_test_predicted))"
   ]
  },
  {
   "cell_type": "markdown",
   "id": "4bd050e8",
   "metadata": {},
   "source": [
    "## 4. Decision Tree Classifier"
   ]
  },
  {
   "cell_type": "code",
   "execution_count": 16,
   "id": "d8ec1146",
   "metadata": {},
   "outputs": [
    {
     "name": "stdout",
     "output_type": "stream",
     "text": [
      "Decision Tree Score is  1.0\n",
      "Accuracy on training set :  1.0\n",
      "Accuracy on test set :  0.8491525423728814\n",
      "Recall on training set :  1.0\n",
      "Recall on test set :  0.5\n",
      "Precision on training set :  1.0\n",
      "Precision on test set :  0.48314606741573035\n",
      "F1-Score on training set :  1.0\n",
      "F1-Score on test set :  0.4914285714285714\n",
      "Classification report for the training data \n",
      "               precision    recall  f1-score   support\n",
      "\n",
      "           0       1.00      1.00      1.00      1199\n",
      "           1       1.00      1.00      1.00       359\n",
      "\n",
      "    accuracy                           1.00      1558\n",
      "   macro avg       1.00      1.00      1.00      1558\n",
      "weighted avg       1.00      1.00      1.00      1558\n",
      "\n",
      "Classification report for the test data \n",
      "               precision    recall  f1-score   support\n",
      "\n",
      "           0       0.91      0.91      0.91       504\n",
      "           1       0.48      0.50      0.49        86\n",
      "\n",
      "    accuracy                           0.85       590\n",
      "   macro avg       0.70      0.70      0.70       590\n",
      "weighted avg       0.85      0.85      0.85       590\n",
      "\n",
      "Confusion matrix for the train data- \n",
      " [[1199    0]\n",
      " [   0  359]]\n",
      "\n",
      "Confusion matrix for the test data- \n",
      " [[458  46]\n",
      " [ 43  43]]\n"
     ]
    }
   ],
   "source": [
    "dt_model = DecisionTreeClassifier()\n",
    "dt_model.fit(X_train,y_train)\n",
    "y_dt_train_predicted = dt_model.predict(X_train)\n",
    "y_dt_test_predicted = dt_model.predict(X_test)\n",
    "print('Decision Tree Score is ',dt_model.score(X_train, y_train))\n",
    "dt_score=gnb_score=get_metrics_score(dt_model, X_train, X_test, y_train, y_test)\n",
    "\n",
    "# summarize the fit of the model\n",
    "print('Classification report for the training data \\n',classification_report(y_train, y_dt_train_predicted))\n",
    "print('Classification report for the test data \\n',classification_report(y_test, y_dt_test_predicted))\n",
    "print('Confusion matrix for the train data- \\n',confusion_matrix(y_train, y_dt_train_predicted))\n",
    "print('\\nConfusion matrix for the test data- \\n',confusion_matrix(y_test, y_dt_test_predicted))"
   ]
  },
  {
   "cell_type": "markdown",
   "id": "123353b6",
   "metadata": {},
   "source": [
    "## 5. GridSearch on Decision Tree Classifier"
   ]
  },
  {
   "cell_type": "code",
   "execution_count": 17,
   "id": "65accc1e",
   "metadata": {},
   "outputs": [
    {
     "name": "stdout",
     "output_type": "stream",
     "text": [
      "Fitting 5 folds for each of 420 candidates, totalling 2100 fits\n"
     ]
    },
    {
     "data": {
      "text/html": [
       "<style>#sk-container-id-1 {color: black;background-color: white;}#sk-container-id-1 pre{padding: 0;}#sk-container-id-1 div.sk-toggleable {background-color: white;}#sk-container-id-1 label.sk-toggleable__label {cursor: pointer;display: block;width: 100%;margin-bottom: 0;padding: 0.3em;box-sizing: border-box;text-align: center;}#sk-container-id-1 label.sk-toggleable__label-arrow:before {content: \"▸\";float: left;margin-right: 0.25em;color: #696969;}#sk-container-id-1 label.sk-toggleable__label-arrow:hover:before {color: black;}#sk-container-id-1 div.sk-estimator:hover label.sk-toggleable__label-arrow:before {color: black;}#sk-container-id-1 div.sk-toggleable__content {max-height: 0;max-width: 0;overflow: hidden;text-align: left;background-color: #f0f8ff;}#sk-container-id-1 div.sk-toggleable__content pre {margin: 0.2em;color: black;border-radius: 0.25em;background-color: #f0f8ff;}#sk-container-id-1 input.sk-toggleable__control:checked~div.sk-toggleable__content {max-height: 200px;max-width: 100%;overflow: auto;}#sk-container-id-1 input.sk-toggleable__control:checked~label.sk-toggleable__label-arrow:before {content: \"▾\";}#sk-container-id-1 div.sk-estimator input.sk-toggleable__control:checked~label.sk-toggleable__label {background-color: #d4ebff;}#sk-container-id-1 div.sk-label input.sk-toggleable__control:checked~label.sk-toggleable__label {background-color: #d4ebff;}#sk-container-id-1 input.sk-hidden--visually {border: 0;clip: rect(1px 1px 1px 1px);clip: rect(1px, 1px, 1px, 1px);height: 1px;margin: -1px;overflow: hidden;padding: 0;position: absolute;width: 1px;}#sk-container-id-1 div.sk-estimator {font-family: monospace;background-color: #f0f8ff;border: 1px dotted black;border-radius: 0.25em;box-sizing: border-box;margin-bottom: 0.5em;}#sk-container-id-1 div.sk-estimator:hover {background-color: #d4ebff;}#sk-container-id-1 div.sk-parallel-item::after {content: \"\";width: 100%;border-bottom: 1px solid gray;flex-grow: 1;}#sk-container-id-1 div.sk-label:hover label.sk-toggleable__label {background-color: #d4ebff;}#sk-container-id-1 div.sk-serial::before {content: \"\";position: absolute;border-left: 1px solid gray;box-sizing: border-box;top: 0;bottom: 0;left: 50%;z-index: 0;}#sk-container-id-1 div.sk-serial {display: flex;flex-direction: column;align-items: center;background-color: white;padding-right: 0.2em;padding-left: 0.2em;position: relative;}#sk-container-id-1 div.sk-item {position: relative;z-index: 1;}#sk-container-id-1 div.sk-parallel {display: flex;align-items: stretch;justify-content: center;background-color: white;position: relative;}#sk-container-id-1 div.sk-item::before, #sk-container-id-1 div.sk-parallel-item::before {content: \"\";position: absolute;border-left: 1px solid gray;box-sizing: border-box;top: 0;bottom: 0;left: 50%;z-index: -1;}#sk-container-id-1 div.sk-parallel-item {display: flex;flex-direction: column;z-index: 1;position: relative;background-color: white;}#sk-container-id-1 div.sk-parallel-item:first-child::after {align-self: flex-end;width: 50%;}#sk-container-id-1 div.sk-parallel-item:last-child::after {align-self: flex-start;width: 50%;}#sk-container-id-1 div.sk-parallel-item:only-child::after {width: 0;}#sk-container-id-1 div.sk-dashed-wrapped {border: 1px dashed gray;margin: 0 0.4em 0.5em 0.4em;box-sizing: border-box;padding-bottom: 0.4em;background-color: white;}#sk-container-id-1 div.sk-label label {font-family: monospace;font-weight: bold;display: inline-block;line-height: 1.2em;}#sk-container-id-1 div.sk-label-container {text-align: center;}#sk-container-id-1 div.sk-container {/* jupyter's `normalize.less` sets `[hidden] { display: none; }` but bootstrap.min.css set `[hidden] { display: none !important; }` so we also need the `!important` here to be able to override the default hidden behavior on the sphinx rendered scikit-learn.org. See: https://github.com/scikit-learn/scikit-learn/issues/21755 */display: inline-block !important;position: relative;}#sk-container-id-1 div.sk-text-repr-fallback {display: none;}</style><div id=\"sk-container-id-1\" class=\"sk-top-container\"><div class=\"sk-text-repr-fallback\"><pre>GridSearchCV(cv=5, estimator=DecisionTreeClassifier(), n_jobs=-1,\n",
       "             param_grid={&#x27;criterion&#x27;: [&#x27;gini&#x27;, &#x27;entropy&#x27;],\n",
       "                         &#x27;max_depth&#x27;: [10, 15, 20, 25, 30],\n",
       "                         &#x27;min_samples_leaf&#x27;: [9, 12, 15, 18, 21, 24],\n",
       "                         &#x27;min_samples_split&#x27;: [3, 6, 9, 12, 15, 30, 35]},\n",
       "             verbose=True)</pre><b>In a Jupyter environment, please rerun this cell to show the HTML representation or trust the notebook. <br />On GitHub, the HTML representation is unable to render, please try loading this page with nbviewer.org.</b></div><div class=\"sk-container\" hidden><div class=\"sk-item sk-dashed-wrapped\"><div class=\"sk-label-container\"><div class=\"sk-label sk-toggleable\"><input class=\"sk-toggleable__control sk-hidden--visually\" id=\"sk-estimator-id-1\" type=\"checkbox\" ><label for=\"sk-estimator-id-1\" class=\"sk-toggleable__label sk-toggleable__label-arrow\">GridSearchCV</label><div class=\"sk-toggleable__content\"><pre>GridSearchCV(cv=5, estimator=DecisionTreeClassifier(), n_jobs=-1,\n",
       "             param_grid={&#x27;criterion&#x27;: [&#x27;gini&#x27;, &#x27;entropy&#x27;],\n",
       "                         &#x27;max_depth&#x27;: [10, 15, 20, 25, 30],\n",
       "                         &#x27;min_samples_leaf&#x27;: [9, 12, 15, 18, 21, 24],\n",
       "                         &#x27;min_samples_split&#x27;: [3, 6, 9, 12, 15, 30, 35]},\n",
       "             verbose=True)</pre></div></div></div><div class=\"sk-parallel\"><div class=\"sk-parallel-item\"><div class=\"sk-item\"><div class=\"sk-label-container\"><div class=\"sk-label sk-toggleable\"><input class=\"sk-toggleable__control sk-hidden--visually\" id=\"sk-estimator-id-2\" type=\"checkbox\" ><label for=\"sk-estimator-id-2\" class=\"sk-toggleable__label sk-toggleable__label-arrow\">estimator: DecisionTreeClassifier</label><div class=\"sk-toggleable__content\"><pre>DecisionTreeClassifier()</pre></div></div></div><div class=\"sk-serial\"><div class=\"sk-item\"><div class=\"sk-estimator sk-toggleable\"><input class=\"sk-toggleable__control sk-hidden--visually\" id=\"sk-estimator-id-3\" type=\"checkbox\" ><label for=\"sk-estimator-id-3\" class=\"sk-toggleable__label sk-toggleable__label-arrow\">DecisionTreeClassifier</label><div class=\"sk-toggleable__content\"><pre>DecisionTreeClassifier()</pre></div></div></div></div></div></div></div></div></div></div>"
      ],
      "text/plain": [
       "GridSearchCV(cv=5, estimator=DecisionTreeClassifier(), n_jobs=-1,\n",
       "             param_grid={'criterion': ['gini', 'entropy'],\n",
       "                         'max_depth': [10, 15, 20, 25, 30],\n",
       "                         'min_samples_leaf': [9, 12, 15, 18, 21, 24],\n",
       "                         'min_samples_split': [3, 6, 9, 12, 15, 30, 35]},\n",
       "             verbose=True)"
      ]
     },
     "execution_count": 17,
     "metadata": {},
     "output_type": "execute_result"
    }
   ],
   "source": [
    "param_grid = {\n",
    "        'max_depth' : [10,15,20,25,30], # maximum number of levels allowed in each decision tree\n",
    "        'min_samples_split' : [3,6,9,12,15,30,35], # minimum sample number to split a node\n",
    "        'min_samples_leaf' : [9,12,15,18,21,24],\n",
    "        'criterion' :['gini', 'entropy']\n",
    "    \n",
    "}\n",
    "\n",
    "dt_tuned = DecisionTreeClassifier()\n",
    "\n",
    "gs_dt = GridSearchCV(estimator = dt_tuned, \n",
    "                      param_grid = param_grid, \n",
    "                      cv = 5,\n",
    "                      verbose = True,\n",
    "                      n_jobs= -1\n",
    "                      )\n",
    "\n",
    "gs_dt.fit(X_train, y_train)"
   ]
  },
  {
   "cell_type": "code",
   "execution_count": 18,
   "id": "48cdfb03",
   "metadata": {},
   "outputs": [
    {
     "name": "stdout",
     "output_type": "stream",
     "text": [
      "Best Params are- {'criterion': 'entropy', 'max_depth': 15, 'min_samples_leaf': 12, 'min_samples_split': 35}\n",
      "\n",
      "\n",
      "Best Score is- 0.8465969989281887\n",
      "Accuracy on training set :  0.886392811296534\n",
      "Accuracy on test set :  0.8813559322033898\n",
      "Recall on training set :  0.6685236768802229\n",
      "Recall on test set :  0.6162790697674418\n",
      "Precision on training set :  0.8053691275167785\n",
      "Precision on test set :  0.5888888888888889\n",
      "F1-Score on training set :  0.7305936073059361\n",
      "F1-Score on test set :  0.6022727272727273\n"
     ]
    }
   ],
   "source": [
    "print('Best Params are-', gs_dt.best_params_)\n",
    "print('\\n\\nBest Score is-',gs_dt.best_score_)\n",
    "\n",
    "# Set the clf to the best combination of parameters\n",
    "gs_dt_tuned = gs_dt.best_estimator_\n",
    "\n",
    "gs_dt_tuned.fit(X_train, y_train)\n",
    "\n",
    "y_gs_dt_train_predicted = gs_dt_tuned.predict(X_train)\n",
    "\n",
    "y_gs_dt_test_predicted = gs_dt_tuned.predict(X_test)\n",
    "\n",
    "dt_score=get_metrics_score(gs_dt_tuned,X_train, X_test, y_train, y_test)"
   ]
  },
  {
   "cell_type": "code",
   "execution_count": 19,
   "id": "f3eff446",
   "metadata": {},
   "outputs": [
    {
     "data": {
      "text/plain": [
       "Text(0.5, 0, 'Decision Tree Feature Importance')"
      ]
     },
     "execution_count": 19,
     "metadata": {},
     "output_type": "execute_result"
    },
    {
     "data": {
      "image/png": "[encoded data removed]",
      "text/plain": [
       "<Figure size 640x480 with 1 Axes>"
      ]
     },
     "metadata": {},
     "output_type": "display_data"
    }
   ],
   "source": [
    "sorted_idx = gs_dt_tuned.feature_importances_.argsort()\n",
    "plt.barh(X_train.columns,gs_dt_tuned.feature_importances_[sorted_idx])\n",
    "plt.xlabel(\"Decision Tree Feature Importance\")"
   ]
  },
  {
   "cell_type": "markdown",
   "id": "7ef04c61",
   "metadata": {},
   "source": [
    "## 6. Random Forest Ensemble Technique"
   ]
  },
  {
   "cell_type": "code",
   "execution_count": 20,
   "id": "ff76281e",
   "metadata": {},
   "outputs": [
    {
     "name": "stdout",
     "output_type": "stream",
     "text": [
      "Accuracy on training set :  0.8947368421052632\n",
      "Accuracy on test set :  0.9169491525423729\n",
      "Recall on training set :  0.6128133704735376\n",
      "Recall on test set :  0.5348837209302325\n",
      "Precision on training set :  0.8979591836734694\n",
      "Precision on test set :  0.8363636363636363\n",
      "F1-Score on training set :  0.7284768211920529\n",
      "F1-Score on test set :  0.652482269503546\n",
      "\n",
      "\n",
      "Classification report for the training data \n",
      "               precision    recall  f1-score   support\n",
      "\n",
      "           0       0.89      0.98      0.93      1199\n",
      "           1       0.90      0.61      0.73       359\n",
      "\n",
      "    accuracy                           0.89      1558\n",
      "   macro avg       0.90      0.80      0.83      1558\n",
      "weighted avg       0.90      0.89      0.89      1558\n",
      "\n",
      "Classification report for the test data \n",
      "               precision    recall  f1-score   support\n",
      "\n",
      "           0       0.93      0.98      0.95       504\n",
      "           1       0.84      0.53      0.65        86\n",
      "\n",
      "    accuracy                           0.92       590\n",
      "   macro avg       0.88      0.76      0.80       590\n",
      "weighted avg       0.91      0.92      0.91       590\n",
      "\n",
      "Confusion matrix for the train data- \n",
      " [[1174   25]\n",
      " [ 139  220]]\n",
      "\n",
      "Confusion matrix for the test data- \n",
      " [[495   9]\n",
      " [ 40  46]]\n"
     ]
    }
   ],
   "source": [
    "RF_model=RandomForestClassifier(max_depth=7,max_features=5,min_samples_leaf=10,min_samples_split=25,n_estimators=40,\n",
    "                                random_state=1)\n",
    "RF_model.fit(X_train, y_train)\n",
    "\n",
    "y_rf_train_predicted = RF_model.predict(X_train)\n",
    "y_rf_test_predicted = RF_model.predict(X_test)\n",
    "rf_score=get_metrics_score(RF_model,X_train, X_test, y_train, y_test)\n",
    "\n",
    "# summarize the fit of the model\n",
    "print('\\n\\nClassification report for the training data \\n',classification_report(y_train, y_rf_train_predicted))\n",
    "print('Classification report for the test data \\n',classification_report(y_test, y_rf_test_predicted))\n",
    "print('Confusion matrix for the train data- \\n',confusion_matrix(y_train, y_rf_train_predicted))\n",
    "print('\\nConfusion matrix for the test data- \\n',confusion_matrix(y_test, y_rf_test_predicted))"
   ]
  },
  {
   "cell_type": "markdown",
   "id": "2056570c",
   "metadata": {},
   "source": [
    "## 7. RandomForest Tuned"
   ]
  },
  {
   "cell_type": "code",
   "execution_count": 21,
   "id": "d0ee655b",
   "metadata": {},
   "outputs": [
    {
     "name": "stdout",
     "output_type": "stream",
     "text": [
      "Fitting 3 folds for each of 768 candidates, totalling 2304 fits\n"
     ]
    },
    {
     "data": {
      "text/html": [
       "<style>#sk-container-id-2 {color: black;background-color: white;}#sk-container-id-2 pre{padding: 0;}#sk-container-id-2 div.sk-toggleable {background-color: white;}#sk-container-id-2 label.sk-toggleable__label {cursor: pointer;display: block;width: 100%;margin-bottom: 0;padding: 0.3em;box-sizing: border-box;text-align: center;}#sk-container-id-2 label.sk-toggleable__label-arrow:before {content: \"▸\";float: left;margin-right: 0.25em;color: #696969;}#sk-container-id-2 label.sk-toggleable__label-arrow:hover:before {color: black;}#sk-container-id-2 div.sk-estimator:hover label.sk-toggleable__label-arrow:before {color: black;}#sk-container-id-2 div.sk-toggleable__content {max-height: 0;max-width: 0;overflow: hidden;text-align: left;background-color: #f0f8ff;}#sk-container-id-2 div.sk-toggleable__content pre {margin: 0.2em;color: black;border-radius: 0.25em;background-color: #f0f8ff;}#sk-container-id-2 input.sk-toggleable__control:checked~div.sk-toggleable__content {max-height: 200px;max-width: 100%;overflow: auto;}#sk-container-id-2 input.sk-toggleable__control:checked~label.sk-toggleable__label-arrow:before {content: \"▾\";}#sk-container-id-2 div.sk-estimator input.sk-toggleable__control:checked~label.sk-toggleable__label {background-color: #d4ebff;}#sk-container-id-2 div.sk-label input.sk-toggleable__control:checked~label.sk-toggleable__label {background-color: #d4ebff;}#sk-container-id-2 input.sk-hidden--visually {border: 0;clip: rect(1px 1px 1px 1px);clip: rect(1px, 1px, 1px, 1px);height: 1px;margin: -1px;overflow: hidden;padding: 0;position: absolute;width: 1px;}#sk-container-id-2 div.sk-estimator {font-family: monospace;background-color: #f0f8ff;border: 1px dotted black;border-radius: 0.25em;box-sizing: border-box;margin-bottom: 0.5em;}#sk-container-id-2 div.sk-estimator:hover {background-color: #d4ebff;}#sk-container-id-2 div.sk-parallel-item::after {content: \"\";width: 100%;border-bottom: 1px solid gray;flex-grow: 1;}#sk-container-id-2 div.sk-label:hover label.sk-toggleable__label {background-color: #d4ebff;}#sk-container-id-2 div.sk-serial::before {content: \"\";position: absolute;border-left: 1px solid gray;box-sizing: border-box;top: 0;bottom: 0;left: 50%;z-index: 0;}#sk-container-id-2 div.sk-serial {display: flex;flex-direction: column;align-items: center;background-color: white;padding-right: 0.2em;padding-left: 0.2em;position: relative;}#sk-container-id-2 div.sk-item {position: relative;z-index: 1;}#sk-container-id-2 div.sk-parallel {display: flex;align-items: stretch;justify-content: center;background-color: white;position: relative;}#sk-container-id-2 div.sk-item::before, #sk-container-id-2 div.sk-parallel-item::before {content: \"\";position: absolute;border-left: 1px solid gray;box-sizing: border-box;top: 0;bottom: 0;left: 50%;z-index: -1;}#sk-container-id-2 div.sk-parallel-item {display: flex;flex-direction: column;z-index: 1;position: relative;background-color: white;}#sk-container-id-2 div.sk-parallel-item:first-child::after {align-self: flex-end;width: 50%;}#sk-container-id-2 div.sk-parallel-item:last-child::after {align-self: flex-start;width: 50%;}#sk-container-id-2 div.sk-parallel-item:only-child::after {width: 0;}#sk-container-id-2 div.sk-dashed-wrapped {border: 1px dashed gray;margin: 0 0.4em 0.5em 0.4em;box-sizing: border-box;padding-bottom: 0.4em;background-color: white;}#sk-container-id-2 div.sk-label label {font-family: monospace;font-weight: bold;display: inline-block;line-height: 1.2em;}#sk-container-id-2 div.sk-label-container {text-align: center;}#sk-container-id-2 div.sk-container {/* jupyter's `normalize.less` sets `[hidden] { display: none; }` but bootstrap.min.css set `[hidden] { display: none !important; }` so we also need the `!important` here to be able to override the default hidden behavior on the sphinx rendered scikit-learn.org. See: https://github.com/scikit-learn/scikit-learn/issues/21755 */display: inline-block !important;position: relative;}#sk-container-id-2 div.sk-text-repr-fallback {display: none;}</style><div id=\"sk-container-id-2\" class=\"sk-top-container\"><div class=\"sk-text-repr-fallback\"><pre>GridSearchCV(cv=3, estimator=RandomForestClassifier(random_state=123),\n",
       "             n_jobs=-1,\n",
       "             param_grid={&#x27;max_depth&#x27;: [5, 7, 10, 15],\n",
       "                         &#x27;max_features&#x27;: [3, 5, 7, 9],\n",
       "                         &#x27;min_samples_leaf&#x27;: [10, 12, 15, 18],\n",
       "                         &#x27;min_samples_split&#x27;: [3, 6, 9, 12],\n",
       "                         &#x27;n_estimators&#x27;: [25, 30, 35]},\n",
       "             verbose=True)</pre><b>In a Jupyter environment, please rerun this cell to show the HTML representation or trust the notebook. <br />On GitHub, the HTML representation is unable to render, please try loading this page with nbviewer.org.</b></div><div class=\"sk-container\" hidden><div class=\"sk-item sk-dashed-wrapped\"><div class=\"sk-label-container\"><div class=\"sk-label sk-toggleable\"><input class=\"sk-toggleable__control sk-hidden--visually\" id=\"sk-estimator-id-4\" type=\"checkbox\" ><label for=\"sk-estimator-id-4\" class=\"sk-toggleable__label sk-toggleable__label-arrow\">GridSearchCV</label><div class=\"sk-toggleable__content\"><pre>GridSearchCV(cv=3, estimator=RandomForestClassifier(random_state=123),\n",
       "             n_jobs=-1,\n",
       "             param_grid={&#x27;max_depth&#x27;: [5, 7, 10, 15],\n",
       "                         &#x27;max_features&#x27;: [3, 5, 7, 9],\n",
       "                         &#x27;min_samples_leaf&#x27;: [10, 12, 15, 18],\n",
       "                         &#x27;min_samples_split&#x27;: [3, 6, 9, 12],\n",
       "                         &#x27;n_estimators&#x27;: [25, 30, 35]},\n",
       "             verbose=True)</pre></div></div></div><div class=\"sk-parallel\"><div class=\"sk-parallel-item\"><div class=\"sk-item\"><div class=\"sk-label-container\"><div class=\"sk-label sk-toggleable\"><input class=\"sk-toggleable__control sk-hidden--visually\" id=\"sk-estimator-id-5\" type=\"checkbox\" ><label for=\"sk-estimator-id-5\" class=\"sk-toggleable__label sk-toggleable__label-arrow\">estimator: RandomForestClassifier</label><div class=\"sk-toggleable__content\"><pre>RandomForestClassifier(random_state=123)</pre></div></div></div><div class=\"sk-serial\"><div class=\"sk-item\"><div class=\"sk-estimator sk-toggleable\"><input class=\"sk-toggleable__control sk-hidden--visually\" id=\"sk-estimator-id-6\" type=\"checkbox\" ><label for=\"sk-estimator-id-6\" class=\"sk-toggleable__label sk-toggleable__label-arrow\">RandomForestClassifier</label><div class=\"sk-toggleable__content\"><pre>RandomForestClassifier(random_state=123)</pre></div></div></div></div></div></div></div></div></div></div>"
      ],
      "text/plain": [
       "GridSearchCV(cv=3, estimator=RandomForestClassifier(random_state=123),\n",
       "             n_jobs=-1,\n",
       "             param_grid={'max_depth': [5, 7, 10, 15],\n",
       "                         'max_features': [3, 5, 7, 9],\n",
       "                         'min_samples_leaf': [10, 12, 15, 18],\n",
       "                         'min_samples_split': [3, 6, 9, 12],\n",
       "                         'n_estimators': [25, 30, 35]},\n",
       "             verbose=True)"
      ]
     },
     "execution_count": 21,
     "metadata": {},
     "output_type": "execute_result"
    }
   ],
   "source": [
    "param_grid = {\n",
    "        #'max_depth': [5,7,9,11,13],\n",
    "        'max_features': [3,5,7,9],\n",
    "        'n_estimators': [25,30,35], # number of trees in the random forest\n",
    "        'max_depth' : [5,7,10,15], # maximum number of levels allowed in each decision tree\n",
    "        'min_samples_split' : [3,6,9,12], #,15,20,25,30, # minimum sample number to split a node\n",
    "        'min_samples_leaf' : [10,12,15,18] # minimum sample number that can be stored in a leaf node\n",
    "}\n",
    "\n",
    "rf_tuned = RandomForestClassifier(random_state=123)\n",
    "\n",
    "gs_rf = GridSearchCV(estimator = rf_tuned, \n",
    "                      param_grid = param_grid, \n",
    "                      cv = 3,\n",
    "                      verbose = True,\n",
    "                      n_jobs= -1\n",
    "                      )\n",
    "\n",
    "gs_rf.fit(X_train, y_train)"
   ]
  },
  {
   "cell_type": "code",
   "execution_count": 22,
   "id": "7af0b7db",
   "metadata": {},
   "outputs": [
    {
     "name": "stdout",
     "output_type": "stream",
     "text": [
      "Best Params are- {'max_depth': 10, 'max_features': 7, 'min_samples_leaf': 10, 'min_samples_split': 3, 'n_estimators': 25}\n",
      "\n",
      "\n",
      "Best Score is- 0.8344190010374981\n",
      "\n",
      "Classification report for the training data \n",
      "               precision    recall  f1-score   support\n",
      "\n",
      "           0       0.91      0.97      0.94      1199\n",
      "           1       0.88      0.66      0.75       359\n",
      "\n",
      "    accuracy                           0.90      1558\n",
      "   macro avg       0.89      0.82      0.85      1558\n",
      "weighted avg       0.90      0.90      0.90      1558\n",
      "\n",
      "Classification report for the test data \n",
      "               precision    recall  f1-score   support\n",
      "\n",
      "           0       0.94      0.98      0.96       504\n",
      "           1       0.84      0.65      0.73        86\n",
      "\n",
      "    accuracy                           0.93       590\n",
      "   macro avg       0.89      0.81      0.85       590\n",
      "weighted avg       0.93      0.93      0.93       590\n",
      "\n",
      "Confusion matrix for the train data- \n",
      " [[1167   32]\n",
      " [ 122  237]]\n",
      "\n",
      "Confusion matrix for the test data- \n",
      " [[493  11]\n",
      " [ 30  56]]\n"
     ]
    }
   ],
   "source": [
    "print('Best Params are-', gs_rf.best_params_)\n",
    "print('\\n\\nBest Score is-',gs_rf.best_score_)\n",
    "\n",
    "# Set the clf to the best combination of parameters\n",
    "gs_rf_tuned = gs_rf.best_estimator_\n",
    "\n",
    "gs_rf_tuned.fit(X_train, y_train)\n",
    "\n",
    "y_gs_rf_train_predicted = gs_rf_tuned.predict(X_train)\n",
    "y_gs_rf_test_predicted = gs_rf_tuned.predict(X_test)\n",
    "\n",
    "# summarize the fit of the model\n",
    "print('\\nClassification report for the training data \\n',classification_report(y_train, y_gs_rf_train_predicted))\n",
    "print('Classification report for the test data \\n',classification_report(y_test, y_gs_rf_test_predicted))\n",
    "print('Confusion matrix for the train data- \\n',confusion_matrix(y_train, y_gs_rf_train_predicted))\n",
    "print('\\nConfusion matrix for the test data- \\n',confusion_matrix(y_test, y_gs_rf_test_predicted))"
   ]
  },
  {
   "cell_type": "code",
   "execution_count": 23,
   "id": "be336da5",
   "metadata": {},
   "outputs": [
    {
     "data": {
      "text/plain": [
       "Text(0.5, 0, 'Random Forest Feature Importance')"
      ]
     },
     "execution_count": 23,
     "metadata": {},
     "output_type": "execute_result"
    },
    {
     "data": {
      "image/png": "[encoded data removed]",
      "text/plain": [
       "<Figure size 640x480 with 1 Axes>"
      ]
     },
     "metadata": {},
     "output_type": "display_data"
    }
   ],
   "source": [
    "sorted_idx = gs_rf_tuned.feature_importances_.argsort()\n",
    "plt.barh(X_train.columns,gs_rf_tuned.feature_importances_[sorted_idx])\n",
    "plt.xlabel(\"Random Forest Feature Importance\")"
   ]
  },
  {
   "cell_type": "markdown",
   "id": "2a01587d",
   "metadata": {},
   "source": [
    "## 8. Gradient Boosting"
   ]
  },
  {
   "cell_type": "code",
   "execution_count": 24,
   "id": "8ef249fa",
   "metadata": {},
   "outputs": [
    {
     "name": "stdout",
     "output_type": "stream",
     "text": [
      "Accuracy on training set :  0.9358151476251605\n",
      "Accuracy on test set :  0.9050847457627119\n",
      "Recall on training set :  0.7493036211699164\n",
      "Recall on test set :  0.5232558139534884\n",
      "Precision on training set :  0.96415770609319\n",
      "Precision on test set :  0.75\n",
      "F1-Score on training set :  0.8432601880877743\n",
      "F1-Score on test set :  0.6164383561643836\n",
      "Classification Report for Training Data- \n",
      "               precision    recall  f1-score   support\n",
      "\n",
      "           0       0.93      0.99      0.96      1199\n",
      "           1       0.96      0.75      0.84       359\n",
      "\n",
      "    accuracy                           0.94      1558\n",
      "   macro avg       0.95      0.87      0.90      1558\n",
      "weighted avg       0.94      0.94      0.93      1558\n",
      "\n",
      "Classification Report for Test Data- \n",
      "               precision    recall  f1-score   support\n",
      "\n",
      "           0       0.92      0.97      0.95       504\n",
      "           1       0.75      0.52      0.62        86\n",
      "\n",
      "    accuracy                           0.91       590\n",
      "   macro avg       0.84      0.75      0.78       590\n",
      "weighted avg       0.90      0.91      0.90       590\n",
      "\n",
      "Confusion Matrix for Training Data- \n",
      " [[1189   10]\n",
      " [  90  269]]\n",
      "\n",
      "Confusion Matrix for Test Data - \n",
      " [[489  15]\n",
      " [ 41  45]]\n"
     ]
    }
   ],
   "source": [
    "gbc_model = GradientBoostingClassifier(random_state=1)\n",
    "gbc_model.fit(X_train,y_train)\n",
    "# make predictions for train data\n",
    "y_gbc_train_predicted = gbc_model.predict(X_train)\n",
    "\n",
    "# make predictions for test data\n",
    "y_gbc_test_predicted = gbc_model.predict(X_test)\n",
    "gbc_score=get_metrics_score(gbc_model,X_train, X_test, y_train, y_test)\n",
    "\n",
    "# summarize the fit of the model\n",
    "print('Classification Report for Training Data- \\n',classification_report(y_train, y_gbc_train_predicted))\n",
    "print('Classification Report for Test Data- \\n',classification_report(y_test, y_gbc_test_predicted))\n",
    "print('Confusion Matrix for Training Data- \\n',confusion_matrix(y_train, y_gbc_train_predicted))\n",
    "print('\\nConfusion Matrix for Test Data - \\n',confusion_matrix(y_test, y_gbc_test_predicted))"
   ]
  },
  {
   "cell_type": "markdown",
   "id": "aa7d52b2",
   "metadata": {},
   "source": [
    "## 9. Gradient Boosting Tuned"
   ]
  },
  {
   "cell_type": "code",
   "execution_count": 25,
   "id": "08df51b5",
   "metadata": {},
   "outputs": [
    {
     "name": "stdout",
     "output_type": "stream",
     "text": [
      "Fitting 3 folds for each of 480 candidates, totalling 1440 fits\n"
     ]
    },
    {
     "data": {
      "text/html": [
       "<style>#sk-container-id-3 {color: black;background-color: white;}#sk-container-id-3 pre{padding: 0;}#sk-container-id-3 div.sk-toggleable {background-color: white;}#sk-container-id-3 label.sk-toggleable__label {cursor: pointer;display: block;width: 100%;margin-bottom: 0;padding: 0.3em;box-sizing: border-box;text-align: center;}#sk-container-id-3 label.sk-toggleable__label-arrow:before {content: \"▸\";float: left;margin-right: 0.25em;color: #696969;}#sk-container-id-3 label.sk-toggleable__label-arrow:hover:before {color: black;}#sk-container-id-3 div.sk-estimator:hover label.sk-toggleable__label-arrow:before {color: black;}#sk-container-id-3 div.sk-toggleable__content {max-height: 0;max-width: 0;overflow: hidden;text-align: left;background-color: #f0f8ff;}#sk-container-id-3 div.sk-toggleable__content pre {margin: 0.2em;color: black;border-radius: 0.25em;background-color: #f0f8ff;}#sk-container-id-3 input.sk-toggleable__control:checked~div.sk-toggleable__content {max-height: 200px;max-width: 100%;overflow: auto;}#sk-container-id-3 input.sk-toggleable__control:checked~label.sk-toggleable__label-arrow:before {content: \"▾\";}#sk-container-id-3 div.sk-estimator input.sk-toggleable__control:checked~label.sk-toggleable__label {background-color: #d4ebff;}#sk-container-id-3 div.sk-label input.sk-toggleable__control:checked~label.sk-toggleable__label {background-color: #d4ebff;}#sk-container-id-3 input.sk-hidden--visually {border: 0;clip: rect(1px 1px 1px 1px);clip: rect(1px, 1px, 1px, 1px);height: 1px;margin: -1px;overflow: hidden;padding: 0;position: absolute;width: 1px;}#sk-container-id-3 div.sk-estimator {font-family: monospace;background-color: #f0f8ff;border: 1px dotted black;border-radius: 0.25em;box-sizing: border-box;margin-bottom: 0.5em;}#sk-container-id-3 div.sk-estimator:hover {background-color: #d4ebff;}#sk-container-id-3 div.sk-parallel-item::after {content: \"\";width: 100%;border-bottom: 1px solid gray;flex-grow: 1;}#sk-container-id-3 div.sk-label:hover label.sk-toggleable__label {background-color: #d4ebff;}#sk-container-id-3 div.sk-serial::before {content: \"\";position: absolute;border-left: 1px solid gray;box-sizing: border-box;top: 0;bottom: 0;left: 50%;z-index: 0;}#sk-container-id-3 div.sk-serial {display: flex;flex-direction: column;align-items: center;background-color: white;padding-right: 0.2em;padding-left: 0.2em;position: relative;}#sk-container-id-3 div.sk-item {position: relative;z-index: 1;}#sk-container-id-3 div.sk-parallel {display: flex;align-items: stretch;justify-content: center;background-color: white;position: relative;}#sk-container-id-3 div.sk-item::before, #sk-container-id-3 div.sk-parallel-item::before {content: \"\";position: absolute;border-left: 1px solid gray;box-sizing: border-box;top: 0;bottom: 0;left: 50%;z-index: -1;}#sk-container-id-3 div.sk-parallel-item {display: flex;flex-direction: column;z-index: 1;position: relative;background-color: white;}#sk-container-id-3 div.sk-parallel-item:first-child::after {align-self: flex-end;width: 50%;}#sk-container-id-3 div.sk-parallel-item:last-child::after {align-self: flex-start;width: 50%;}#sk-container-id-3 div.sk-parallel-item:only-child::after {width: 0;}#sk-container-id-3 div.sk-dashed-wrapped {border: 1px dashed gray;margin: 0 0.4em 0.5em 0.4em;box-sizing: border-box;padding-bottom: 0.4em;background-color: white;}#sk-container-id-3 div.sk-label label {font-family: monospace;font-weight: bold;display: inline-block;line-height: 1.2em;}#sk-container-id-3 div.sk-label-container {text-align: center;}#sk-container-id-3 div.sk-container {/* jupyter's `normalize.less` sets `[hidden] { display: none; }` but bootstrap.min.css set `[hidden] { display: none !important; }` so we also need the `!important` here to be able to override the default hidden behavior on the sphinx rendered scikit-learn.org. See: https://github.com/scikit-learn/scikit-learn/issues/21755 */display: inline-block !important;position: relative;}#sk-container-id-3 div.sk-text-repr-fallback {display: none;}</style><div id=\"sk-container-id-3\" class=\"sk-top-container\"><div class=\"sk-text-repr-fallback\"><pre>GridSearchCV(cv=3, estimator=GradientBoostingClassifier(random_state=1),\n",
       "             n_jobs=-1,\n",
       "             param_grid={&#x27;learning_rate&#x27;: [0.1],\n",
       "                         &#x27;max_depth&#x27;: [1, 2, 3, 4, 5, 10, 15, 20],\n",
       "                         &#x27;max_features&#x27;: [0.8],\n",
       "                         &#x27;min_samples_leaf&#x27;: [3, 6, 9, 12, 15],\n",
       "                         &#x27;min_samples_split&#x27;: [30, 35, 40, 45],\n",
       "                         &#x27;n_estimators&#x27;: [20, 30, 40], &#x27;subsample&#x27;: [0.9]},\n",
       "             return_train_score=True, verbose=1)</pre><b>In a Jupyter environment, please rerun this cell to show the HTML representation or trust the notebook. <br />On GitHub, the HTML representation is unable to render, please try loading this page with nbviewer.org.</b></div><div class=\"sk-container\" hidden><div class=\"sk-item sk-dashed-wrapped\"><div class=\"sk-label-container\"><div class=\"sk-label sk-toggleable\"><input class=\"sk-toggleable__control sk-hidden--visually\" id=\"sk-estimator-id-7\" type=\"checkbox\" ><label for=\"sk-estimator-id-7\" class=\"sk-toggleable__label sk-toggleable__label-arrow\">GridSearchCV</label><div class=\"sk-toggleable__content\"><pre>GridSearchCV(cv=3, estimator=GradientBoostingClassifier(random_state=1),\n",
       "             n_jobs=-1,\n",
       "             param_grid={&#x27;learning_rate&#x27;: [0.1],\n",
       "                         &#x27;max_depth&#x27;: [1, 2, 3, 4, 5, 10, 15, 20],\n",
       "                         &#x27;max_features&#x27;: [0.8],\n",
       "                         &#x27;min_samples_leaf&#x27;: [3, 6, 9, 12, 15],\n",
       "                         &#x27;min_samples_split&#x27;: [30, 35, 40, 45],\n",
       "                         &#x27;n_estimators&#x27;: [20, 30, 40], &#x27;subsample&#x27;: [0.9]},\n",
       "             return_train_score=True, verbose=1)</pre></div></div></div><div class=\"sk-parallel\"><div class=\"sk-parallel-item\"><div class=\"sk-item\"><div class=\"sk-label-container\"><div class=\"sk-label sk-toggleable\"><input class=\"sk-toggleable__control sk-hidden--visually\" id=\"sk-estimator-id-8\" type=\"checkbox\" ><label for=\"sk-estimator-id-8\" class=\"sk-toggleable__label sk-toggleable__label-arrow\">estimator: GradientBoostingClassifier</label><div class=\"sk-toggleable__content\"><pre>GradientBoostingClassifier(random_state=1)</pre></div></div></div><div class=\"sk-serial\"><div class=\"sk-item\"><div class=\"sk-estimator sk-toggleable\"><input class=\"sk-toggleable__control sk-hidden--visually\" id=\"sk-estimator-id-9\" type=\"checkbox\" ><label for=\"sk-estimator-id-9\" class=\"sk-toggleable__label sk-toggleable__label-arrow\">GradientBoostingClassifier</label><div class=\"sk-toggleable__content\"><pre>GradientBoostingClassifier(random_state=1)</pre></div></div></div></div></div></div></div></div></div></div>"
      ],
      "text/plain": [
       "GridSearchCV(cv=3, estimator=GradientBoostingClassifier(random_state=1),\n",
       "             n_jobs=-1,\n",
       "             param_grid={'learning_rate': [0.1],\n",
       "                         'max_depth': [1, 2, 3, 4, 5, 10, 15, 20],\n",
       "                         'max_features': [0.8],\n",
       "                         'min_samples_leaf': [3, 6, 9, 12, 15],\n",
       "                         'min_samples_split': [30, 35, 40, 45],\n",
       "                         'n_estimators': [20, 30, 40], 'subsample': [0.9]},\n",
       "             return_train_score=True, verbose=1)"
      ]
     },
     "execution_count": 25,
     "metadata": {},
     "output_type": "execute_result"
    }
   ],
   "source": [
    "# Choose the type of classifier. \n",
    "gbc_tuned = GradientBoostingClassifier(random_state=1)\n",
    "\n",
    "# Grid of parameters to choose from article\n",
    "param_grid = {\n",
    "    \"n_estimators\": [20,30,40],\n",
    "    \"subsample\":[0.9],\n",
    "    \"max_features\":[0.8],\n",
    "    \"learning_rate\": [0.1],\n",
    "    'max_depth' : [1,2,3,4,5,10,15,20], # maximum number of levels allowed in each decision tree\n",
    "    'min_samples_split' : [30,35,40,45], # minimum sample number to split a node\n",
    "    'min_samples_leaf' : [3,6,9,12,15]\n",
    "}\n",
    "\n",
    "\n",
    "gs_gbc = GridSearchCV(estimator = gbc_tuned, \n",
    "                      param_grid = param_grid, \n",
    "                      cv = 3,\n",
    "                      verbose = 1,\n",
    "                      return_train_score = True,\n",
    "                      n_jobs= -1\n",
    "                      )\n",
    "\n",
    "gs_gbc.fit(X_train, y_train)"
   ]
  },
  {
   "cell_type": "code",
   "execution_count": 26,
   "id": "d27a25a6",
   "metadata": {
    "scrolled": false
   },
   "outputs": [
    {
     "name": "stdout",
     "output_type": "stream",
     "text": [
      "Best Params are- {'learning_rate': 0.1, 'max_depth': 20, 'max_features': 0.8, 'min_samples_leaf': 3, 'min_samples_split': 30, 'n_estimators': 40, 'subsample': 0.9}\n",
      "\n",
      "\n",
      "Best Score is- 0.8831838841954448\n",
      "Classification report for the training data \n",
      "               precision    recall  f1-score   support\n",
      "\n",
      "           0       1.00      1.00      1.00      1199\n",
      "           1       1.00      1.00      1.00       359\n",
      "\n",
      "    accuracy                           1.00      1558\n",
      "   macro avg       1.00      1.00      1.00      1558\n",
      "weighted avg       1.00      1.00      1.00      1558\n",
      "\n",
      "Classification report for the test data \n",
      "               precision    recall  f1-score   support\n",
      "\n",
      "           0       0.93      0.98      0.96       504\n",
      "           1       0.84      0.57      0.68        86\n",
      "\n",
      "    accuracy                           0.92       590\n",
      "   macro avg       0.89      0.78      0.82       590\n",
      "weighted avg       0.92      0.92      0.92       590\n",
      "\n",
      "Confusion matrix for the train data- \n",
      " [[1199    0]\n",
      " [   0  359]]\n",
      "\n",
      "Confusion matrix for the test data- \n",
      " [[495   9]\n",
      " [ 37  49]]\n"
     ]
    }
   ],
   "source": [
    "print('Best Params are-', gs_gbc.best_params_)\n",
    "print('\\n\\nBest Score is-',gs_gbc.best_score_)\n",
    "\n",
    "# Set the clf to the best combination of parameters\n",
    "gs_gbc_tuned = gs_gbc.best_estimator_\n",
    "gs_gbc_tuned.fit(X_train, y_train)\n",
    "\n",
    "y_gs_gbc_train_predicted = gs_gbc_tuned.predict(X_train)\n",
    "y_gs_gbc_test_predicted = gs_gbc_tuned.predict(X_test)\n",
    "\n",
    "# summarize the fit of the model\n",
    "print('Classification report for the training data \\n',classification_report(y_train, y_gs_gbc_train_predicted))\n",
    "print('Classification report for the test data \\n',classification_report(y_test, y_gs_gbc_test_predicted))\n",
    "print('Confusion matrix for the train data- \\n',confusion_matrix(y_train, y_gs_gbc_train_predicted))\n",
    "print('\\nConfusion matrix for the test data- \\n',confusion_matrix(y_test, y_gs_gbc_test_predicted))"
   ]
  },
  {
   "cell_type": "code",
   "execution_count": 27,
   "id": "47e0ea52",
   "metadata": {},
   "outputs": [
    {
     "data": {
      "text/plain": [
       "Text(0.5, 0, 'Gradient Boosting Feature Importance')"
      ]
     },
     "execution_count": 27,
     "metadata": {},
     "output_type": "execute_result"
    },
    {
     "data": {
      "image/png": "[encoded data removed]",
      "text/plain": [
       "<Figure size 640x480 with 1 Axes>"
      ]
     },
     "metadata": {},
     "output_type": "display_data"
    }
   ],
   "source": [
    "sorted_idx = gs_gbc_tuned.feature_importances_.argsort()\n",
    "plt.barh(X_train.columns,gs_gbc_tuned.feature_importances_[sorted_idx])\n",
    "plt.xlabel(\"Gradient Boosting Feature Importance\")"
   ]
  },
  {
   "cell_type": "markdown",
   "id": "baf0f7d2",
   "metadata": {},
   "source": [
    "## 10. Bagging Classifier"
   ]
  },
  {
   "cell_type": "code",
   "execution_count": 28,
   "id": "a00ba17e",
   "metadata": {},
   "outputs": [
    {
     "name": "stdout",
     "output_type": "stream",
     "text": [
      "Accuracy on training set :  0.9858793324775353\n",
      "Accuracy on test set :  0.911864406779661\n",
      "Recall on training set :  0.9415041782729805\n",
      "Recall on test set :  0.5116279069767442\n",
      "Precision on training set :  0.9970501474926253\n",
      "Precision on test set :  0.8148148148148148\n",
      "F1-Score on training set :  0.9684813753581661\n",
      "F1-Score on test set :  0.6285714285714286\n",
      "Classification Report for Training Data- \n",
      "               precision    recall  f1-score   support\n",
      "\n",
      "           0       0.98      1.00      0.99      1199\n",
      "           1       1.00      0.94      0.97       359\n",
      "\n",
      "    accuracy                           0.99      1558\n",
      "   macro avg       0.99      0.97      0.98      1558\n",
      "weighted avg       0.99      0.99      0.99      1558\n",
      "\n",
      "Classification Report for Test Data- \n",
      "               precision    recall  f1-score   support\n",
      "\n",
      "           0       0.92      0.98      0.95       504\n",
      "           1       0.81      0.51      0.63        86\n",
      "\n",
      "    accuracy                           0.91       590\n",
      "   macro avg       0.87      0.75      0.79       590\n",
      "weighted avg       0.91      0.91      0.90       590\n",
      "\n",
      "Confusion Matrix for Training Data- \n",
      " [[1198    1]\n",
      " [  21  338]]\n",
      "\n",
      "Confusion Matrix for Test Data - \n",
      " [[494  10]\n",
      " [ 42  44]]\n"
     ]
    }
   ],
   "source": [
    "bc_model = BaggingClassifier(random_state=1)\n",
    "bc_model.fit(X_train,y_train)\n",
    "# make predictions for train data\n",
    "y_bc_train_predicted = bc_model.predict(X_train)\n",
    "\n",
    "# make predictions for test data\n",
    "y_bc_test_predicted = bc_model.predict(X_test)\n",
    "bc_score=get_metrics_score(bc_model,X_train, X_test, y_train, y_test)\n",
    "\n",
    "# summarize the fit of the model\n",
    "print('Classification Report for Training Data- \\n',classification_report(y_train, y_bc_train_predicted))\n",
    "print('Classification Report for Test Data- \\n',classification_report(y_test, y_bc_test_predicted))\n",
    "print('Confusion Matrix for Training Data- \\n',confusion_matrix(y_train, y_bc_train_predicted))\n",
    "print('\\nConfusion Matrix for Test Data - \\n',confusion_matrix(y_test, y_bc_test_predicted))"
   ]
  },
  {
   "cell_type": "markdown",
   "id": "7d35cee3",
   "metadata": {},
   "source": [
    "## 11. Ada Boosting Classifier"
   ]
  },
  {
   "cell_type": "code",
   "execution_count": 29,
   "id": "70646865",
   "metadata": {},
   "outputs": [
    {
     "name": "stdout",
     "output_type": "stream",
     "text": [
      "Accuracy on training set :  0.8645699614890886\n",
      "Accuracy on test set :  0.8627118644067797\n",
      "Recall on training set :  0.5431754874651811\n",
      "Recall on test set :  0.37209302325581395\n",
      "Precision on training set :  0.8057851239669421\n",
      "Precision on test set :  0.5423728813559322\n",
      "F1-Score on training set :  0.64891846921797\n",
      "F1-Score on test set :  0.4413793103448276\n",
      "Classification Report for Training Data- \n",
      "               precision    recall  f1-score   support\n",
      "\n",
      "           0       0.88      0.96      0.92      1199\n",
      "           1       0.81      0.54      0.65       359\n",
      "\n",
      "    accuracy                           0.86      1558\n",
      "   macro avg       0.84      0.75      0.78      1558\n",
      "weighted avg       0.86      0.86      0.85      1558\n",
      "\n",
      "Classification Report for Test Data- \n",
      "               precision    recall  f1-score   support\n",
      "\n",
      "           0       0.90      0.95      0.92       504\n",
      "           1       0.54      0.37      0.44        86\n",
      "\n",
      "    accuracy                           0.86       590\n",
      "   macro avg       0.72      0.66      0.68       590\n",
      "weighted avg       0.85      0.86      0.85       590\n",
      "\n",
      "Confusion Matrix for Training Data- \n",
      " [[1152   47]\n",
      " [ 164  195]]\n",
      "\n",
      "Confusion Matrix for Test Data - \n",
      " [[477  27]\n",
      " [ 54  32]]\n"
     ]
    }
   ],
   "source": [
    "abc_model = AdaBoostClassifier(random_state=1)\n",
    "abc_model.fit(X_train,y_train)\n",
    "# make predictions for train data\n",
    "y_abc_train_predicted = abc_model.predict(X_train)\n",
    "\n",
    "# make predictions for test data\n",
    "y_abc_test_predicted = abc_model.predict(X_test)\n",
    "abc_score=get_metrics_score(abc_model,X_train, X_test, y_train, y_test)\n",
    "\n",
    "# summarize the fit of the model\n",
    "print('Classification Report for Training Data- \\n',classification_report(y_train, y_abc_train_predicted))\n",
    "print('Classification Report for Test Data- \\n',classification_report(y_test, y_abc_test_predicted))\n",
    "print('Confusion Matrix for Training Data- \\n',confusion_matrix(y_train, y_abc_train_predicted))\n",
    "print('\\nConfusion Matrix for Test Data - \\n',confusion_matrix(y_test, y_abc_test_predicted))"
   ]
  },
  {
   "cell_type": "markdown",
   "id": "60e85dda",
   "metadata": {},
   "source": [
    "## 12 Voting Classifier"
   ]
  },
  {
   "cell_type": "code",
   "execution_count": 30,
   "id": "c60ae3dd",
   "metadata": {},
   "outputs": [],
   "source": [
    "# defining list of models\n",
    "estimator= [('LR',lr_model), ('LDA',lda_model), ('GNB',GNB_model), ('DT',dt_model), ('GSDT',gs_dt_tuned), ('RF',RF_model),\n",
    "            ('GSRF',gs_rf_tuned), ('GBC',gbc_model), ('GSGBC',gs_gbc_tuned), ('BC', bc_model),('ABC',abc_model)]"
   ]
  },
  {
   "cell_type": "code",
   "execution_count": 31,
   "id": "2cd8a00d",
   "metadata": {},
   "outputs": [
    {
     "name": "stdout",
     "output_type": "stream",
     "text": [
      "Accuracy on training set :  0.8645699614890886\n",
      "Accuracy on test set :  0.8627118644067797\n",
      "Recall on training set :  0.5431754874651811\n",
      "Recall on test set :  0.37209302325581395\n",
      "Precision on training set :  0.8057851239669421\n",
      "Precision on test set :  0.5423728813559322\n",
      "F1-Score on training set :  0.64891846921797\n",
      "F1-Score on test set :  0.4413793103448276\n",
      "Classification Report for Training Data- \n",
      "               precision    recall  f1-score   support\n",
      "\n",
      "           0       0.94      1.00      0.97      1199\n",
      "           1       1.00      0.78      0.87       359\n",
      "\n",
      "    accuracy                           0.95      1558\n",
      "   macro avg       0.97      0.89      0.92      1558\n",
      "weighted avg       0.95      0.95      0.95      1558\n",
      "\n",
      "Classification Report for Test Data- \n",
      "               precision    recall  f1-score   support\n",
      "\n",
      "           0       0.92      0.99      0.96       504\n",
      "           1       0.90      0.52      0.66        86\n",
      "\n",
      "    accuracy                           0.92       590\n",
      "   macro avg       0.91      0.76      0.81       590\n",
      "weighted avg       0.92      0.92      0.91       590\n",
      "\n",
      "Confusion Matrix for Training Data- \n",
      " [[1199    0]\n",
      " [  80  279]]\n",
      "\n",
      "Confusion Matrix for Test Data - \n",
      " [[499   5]\n",
      " [ 41  45]]\n"
     ]
    }
   ],
   "source": [
    "soft_vc_model = VotingClassifier(estimators= estimator, voting='soft')\n",
    "soft_vc_model.fit(X_train,y_train)\n",
    "\n",
    "# make predictions for train data\n",
    "y_soft_vc_train_predicted = soft_vc_model.predict(X_train)\n",
    "\n",
    "# make predictions for test data\n",
    "y_soft_vc_test_predicted = soft_vc_model.predict(X_test)\n",
    "soft_vc_score=get_metrics_score(abc_model,X_train, X_test, y_train, y_test)\n",
    "\n",
    "# summarize the fit of the model\n",
    "print('Classification Report for Training Data- \\n',classification_report(y_train, y_soft_vc_train_predicted))\n",
    "print('Classification Report for Test Data- \\n',classification_report(y_test, y_soft_vc_test_predicted))\n",
    "print('Confusion Matrix for Training Data- \\n',confusion_matrix(y_train, y_soft_vc_train_predicted))\n",
    "print('\\nConfusion Matrix for Test Data - \\n',confusion_matrix(y_test, y_soft_vc_test_predicted))"
   ]
  },
  {
   "cell_type": "code",
   "execution_count": 32,
   "id": "24830728",
   "metadata": {
    "scrolled": false
   },
   "outputs": [
    {
     "name": "stdout",
     "output_type": "stream",
     "text": [
      "Accuracy on training set :  0.8645699614890886\n",
      "Accuracy on test set :  0.8627118644067797\n",
      "Recall on training set :  0.5431754874651811\n",
      "Recall on test set :  0.37209302325581395\n",
      "Precision on training set :  0.8057851239669421\n",
      "Precision on test set :  0.5423728813559322\n",
      "F1-Score on training set :  0.64891846921797\n",
      "F1-Score on test set :  0.4413793103448276\n",
      "Classification Report for Training Data- \n",
      "               precision    recall  f1-score   support\n",
      "\n",
      "           0       0.91      0.99      0.95      1199\n",
      "           1       0.97      0.69      0.81       359\n",
      "\n",
      "    accuracy                           0.92      1558\n",
      "   macro avg       0.94      0.84      0.88      1558\n",
      "weighted avg       0.93      0.92      0.92      1558\n",
      "\n",
      "Classification Report for Test Data- \n",
      "               precision    recall  f1-score   support\n",
      "\n",
      "           0       0.92      0.98      0.95       504\n",
      "           1       0.85      0.52      0.65        86\n",
      "\n",
      "    accuracy                           0.92       590\n",
      "   macro avg       0.89      0.75      0.80       590\n",
      "weighted avg       0.91      0.92      0.91       590\n",
      "\n",
      "Confusion Matrix for Training Data- \n",
      " [[1192    7]\n",
      " [ 112  247]]\n",
      "\n",
      "Confusion Matrix for Test Data - \n",
      " [[496   8]\n",
      " [ 41  45]]\n"
     ]
    }
   ],
   "source": [
    "hard_vc_model = VotingClassifier(estimators= estimator, voting='hard')\n",
    "hard_vc_model.fit(X_train,y_train)\n",
    "\n",
    "# make predictions for train data\n",
    "y_hard_vc_train_predicted = hard_vc_model.predict(X_train)\n",
    "\n",
    "# make predictions for test data\n",
    "y_hard_vc_test_predicted = hard_vc_model.predict(X_test)\n",
    "hard_vc_score=get_metrics_score(abc_model,X_train, X_test, y_train, y_test)\n",
    "\n",
    "# summarize the fit of the model\n",
    "print('Classification Report for Training Data- \\n',classification_report(y_train, y_hard_vc_train_predicted))\n",
    "print('Classification Report for Test Data- \\n',classification_report(y_test, y_hard_vc_test_predicted))\n",
    "print('Confusion Matrix for Training Data- \\n',confusion_matrix(y_train, y_hard_vc_train_predicted))\n",
    "print('\\nConfusion Matrix for Test Data - \\n',confusion_matrix(y_test, y_hard_vc_test_predicted))"
   ]
  },
  {
   "cell_type": "code",
   "execution_count": 33,
   "id": "db4e1d74",
   "metadata": {},
   "outputs": [
    {
     "data": {
      "text/plain": [
       "<Figure size 1200x600 with 0 Axes>"
      ]
     },
     "metadata": {},
     "output_type": "display_data"
    },
    {
     "data": {
      "image/png": "[encoded data removed]",
      "text/plain": [
       "<Figure size 640x480 with 1 Axes>"
      ]
     },
     "metadata": {},
     "output_type": "display_data"
    }
   ],
   "source": [
    "models_list = [lr_model, lda_model, GNB_model, dt_model, gs_dt_tuned, RF_model, gs_rf_tuned, gbc_model, gs_gbc_tuned, bc_model, \n",
    "          abc_model, soft_vc_model]\n",
    "\n",
    "probability_list = [c.fit(X_train, y_train).predict_proba(X) for c in models_list]\n",
    "\n",
    "class1_1 = [pr[0, 0] for pr in probability_list]\n",
    "class2_1 = [pr[0, 1] for pr in probability_list]\n",
    "\n",
    "# plotting\n",
    "\n",
    "N = 12  # number of groups\n",
    "ind = np.arange(N)  # group positions\n",
    "width = 0.35  # bar width\n",
    "\n",
    "plt.figure(figsize=(12,6))\n",
    "fig, ax = plt.subplots()\n",
    "\n",
    "# bars for classifier 1-11\n",
    "p1 = ax.bar(ind, np.hstack(([class1_1[:-1], [0]])), width, color=\"green\", edgecolor=\"k\")\n",
    "p2 = ax.bar(\n",
    "    ind + width,\n",
    "    np.hstack(([class2_1[:-1], [0]])),\n",
    "    width,\n",
    "    color=\"lightgreen\",\n",
    "    edgecolor=\"k\",\n",
    ")\n",
    "\n",
    "# bars for VotingClassifier\n",
    "p3 = ax.bar(ind, [0, 0, 0, 0, 0, 0, 0, 0, 0, 0, 0, class1_1[-1]], width, color=\"blue\", edgecolor=\"k\")\n",
    "p4 = ax.bar(\n",
    "    ind + width, [0, 0, 0, 0, 0, 0, 0, 0, 0, 0, 0, class2_1[-1]], width, color=\"steelblue\", edgecolor=\"k\"\n",
    ")\n",
    "\n",
    "# plot annotations\n",
    "plt.axvline(10.8, color=\"k\", linestyle=\"dashed\")\n",
    "ax.set_xticks(ind + width)\n",
    "ax.set_xticklabels(\n",
    "    ['Logistic Regression','Linear Discriminant Analysis','Naive Bayes','Decision Tree','Decision Tree Tuned', \n",
    "     'Random Forest','Random Forest Tuned', 'Gradient Boosting','Gradient Boosting Tuned',\n",
    "     'Bagging Classifier','Ada Boosting Classifier','Soft Voting Classifier'],\n",
    "    rotation=90,\n",
    "    ha=\"right\",\n",
    ")\n",
    "plt.ylim([0, 1])\n",
    "plt.title(\"Class probabilities by different classifiers\")\n",
    "plt.legend([p1[0], p2[0]], [\"No\", \"Yes\"], loc=\"upper left\")\n",
    "plt.tight_layout()\n",
    "plt.show()"
   ]
  },
  {
   "cell_type": "code",
   "execution_count": 34,
   "id": "8c117dea",
   "metadata": {},
   "outputs": [
    {
     "data": {
      "text/html": [
       "<div>\n",
       "<style scoped>\n",
       "    .dataframe tbody tr th:only-of-type {\n",
       "        vertical-align: middle;\n",
       "    }\n",
       "\n",
       "    .dataframe tbody tr th {\n",
       "        vertical-align: top;\n",
       "    }\n",
       "\n",
       "    .dataframe thead th {\n",
       "        text-align: right;\n",
       "    }\n",
       "</style>\n",
       "<table border=\"1\" class=\"dataframe\">\n",
       "  <thead>\n",
       "    <tr style=\"text-align: right;\">\n",
       "      <th></th>\n",
       "      <th>TrainAccuracy</th>\n",
       "      <th>TestAccuracy</th>\n",
       "      <th>Train_Recall</th>\n",
       "      <th>TestRecall</th>\n",
       "      <th>TrainPrecision</th>\n",
       "      <th>TestPrecision</th>\n",
       "      <th>TrainF1Score</th>\n",
       "      <th>TestF1Score</th>\n",
       "    </tr>\n",
       "  </thead>\n",
       "  <tbody>\n",
       "    <tr>\n",
       "      <th>Logistic Regression</th>\n",
       "      <td>0.78</td>\n",
       "      <td>0.86</td>\n",
       "      <td>0.03</td>\n",
       "      <td>0.05</td>\n",
       "      <td>0.80</td>\n",
       "      <td>1.00</td>\n",
       "      <td>0.06</td>\n",
       "      <td>0.09</td>\n",
       "    </tr>\n",
       "    <tr>\n",
       "      <th>Linear Discriminant Analysis</th>\n",
       "      <td>0.79</td>\n",
       "      <td>0.87</td>\n",
       "      <td>0.28</td>\n",
       "      <td>0.31</td>\n",
       "      <td>0.61</td>\n",
       "      <td>0.60</td>\n",
       "      <td>0.39</td>\n",
       "      <td>0.41</td>\n",
       "    </tr>\n",
       "    <tr>\n",
       "      <th>Naive Bayes</th>\n",
       "      <td>0.78</td>\n",
       "      <td>0.86</td>\n",
       "      <td>0.18</td>\n",
       "      <td>0.26</td>\n",
       "      <td>0.57</td>\n",
       "      <td>0.56</td>\n",
       "      <td>0.28</td>\n",
       "      <td>0.35</td>\n",
       "    </tr>\n",
       "    <tr>\n",
       "      <th>Decision Tree</th>\n",
       "      <td>1.00</td>\n",
       "      <td>0.86</td>\n",
       "      <td>1.00</td>\n",
       "      <td>0.57</td>\n",
       "      <td>1.00</td>\n",
       "      <td>0.52</td>\n",
       "      <td>1.00</td>\n",
       "      <td>0.54</td>\n",
       "    </tr>\n",
       "    <tr>\n",
       "      <th>Decision Tree Tuned</th>\n",
       "      <td>0.89</td>\n",
       "      <td>0.88</td>\n",
       "      <td>0.67</td>\n",
       "      <td>0.62</td>\n",
       "      <td>0.81</td>\n",
       "      <td>0.59</td>\n",
       "      <td>0.73</td>\n",
       "      <td>0.60</td>\n",
       "    </tr>\n",
       "    <tr>\n",
       "      <th>Random Forest</th>\n",
       "      <td>0.89</td>\n",
       "      <td>0.92</td>\n",
       "      <td>0.61</td>\n",
       "      <td>0.53</td>\n",
       "      <td>0.90</td>\n",
       "      <td>0.84</td>\n",
       "      <td>0.73</td>\n",
       "      <td>0.65</td>\n",
       "    </tr>\n",
       "    <tr>\n",
       "      <th>Random Forest Tuned</th>\n",
       "      <td>0.90</td>\n",
       "      <td>0.93</td>\n",
       "      <td>0.66</td>\n",
       "      <td>0.65</td>\n",
       "      <td>0.88</td>\n",
       "      <td>0.84</td>\n",
       "      <td>0.75</td>\n",
       "      <td>0.73</td>\n",
       "    </tr>\n",
       "    <tr>\n",
       "      <th>Gradient Boosting Classifier</th>\n",
       "      <td>0.94</td>\n",
       "      <td>0.91</td>\n",
       "      <td>0.75</td>\n",
       "      <td>0.52</td>\n",
       "      <td>0.96</td>\n",
       "      <td>0.75</td>\n",
       "      <td>0.84</td>\n",
       "      <td>0.62</td>\n",
       "    </tr>\n",
       "    <tr>\n",
       "      <th>Gradient Boosting Classifier Tuned</th>\n",
       "      <td>1.00</td>\n",
       "      <td>0.92</td>\n",
       "      <td>1.00</td>\n",
       "      <td>0.57</td>\n",
       "      <td>1.00</td>\n",
       "      <td>0.84</td>\n",
       "      <td>1.00</td>\n",
       "      <td>0.68</td>\n",
       "    </tr>\n",
       "    <tr>\n",
       "      <th>Bagging Classifier</th>\n",
       "      <td>0.99</td>\n",
       "      <td>0.91</td>\n",
       "      <td>0.94</td>\n",
       "      <td>0.51</td>\n",
       "      <td>1.00</td>\n",
       "      <td>0.81</td>\n",
       "      <td>0.97</td>\n",
       "      <td>0.63</td>\n",
       "    </tr>\n",
       "    <tr>\n",
       "      <th>Ada Boosting Classifier</th>\n",
       "      <td>0.86</td>\n",
       "      <td>0.86</td>\n",
       "      <td>0.54</td>\n",
       "      <td>0.37</td>\n",
       "      <td>0.81</td>\n",
       "      <td>0.54</td>\n",
       "      <td>0.65</td>\n",
       "      <td>0.44</td>\n",
       "    </tr>\n",
       "    <tr>\n",
       "      <th>Soft Voting Classifier</th>\n",
       "      <td>0.95</td>\n",
       "      <td>0.92</td>\n",
       "      <td>0.78</td>\n",
       "      <td>0.51</td>\n",
       "      <td>1.00</td>\n",
       "      <td>0.90</td>\n",
       "      <td>0.87</td>\n",
       "      <td>0.65</td>\n",
       "    </tr>\n",
       "    <tr>\n",
       "      <th>Hard Voting Classifier</th>\n",
       "      <td>0.92</td>\n",
       "      <td>0.92</td>\n",
       "      <td>0.69</td>\n",
       "      <td>0.52</td>\n",
       "      <td>0.97</td>\n",
       "      <td>0.85</td>\n",
       "      <td>0.81</td>\n",
       "      <td>0.65</td>\n",
       "    </tr>\n",
       "  </tbody>\n",
       "</table>\n",
       "</div>"
      ],
      "text/plain": [
       "                                    TrainAccuracy  TestAccuracy  Train_Recall  \\\n",
       "Logistic Regression                          0.78          0.86          0.03   \n",
       "Linear Discriminant Analysis                 0.79          0.87          0.28   \n",
       "Naive Bayes                                  0.78          0.86          0.18   \n",
       "Decision Tree                                1.00          0.86          1.00   \n",
       "Decision Tree Tuned                          0.89          0.88          0.67   \n",
       "Random Forest                                0.89          0.92          0.61   \n",
       "Random Forest Tuned                          0.90          0.93          0.66   \n",
       "Gradient Boosting Classifier                 0.94          0.91          0.75   \n",
       "Gradient Boosting Classifier Tuned           1.00          0.92          1.00   \n",
       "Bagging Classifier                           0.99          0.91          0.94   \n",
       "Ada Boosting Classifier                      0.86          0.86          0.54   \n",
       "Soft Voting Classifier                       0.95          0.92          0.78   \n",
       "Hard Voting Classifier                       0.92          0.92          0.69   \n",
       "\n",
       "                                    TestRecall  TrainPrecision  TestPrecision  \\\n",
       "Logistic Regression                       0.05            0.80           1.00   \n",
       "Linear Discriminant Analysis              0.31            0.61           0.60   \n",
       "Naive Bayes                               0.26            0.57           0.56   \n",
       "Decision Tree                             0.57            1.00           0.52   \n",
       "Decision Tree Tuned                       0.62            0.81           0.59   \n",
       "Random Forest                             0.53            0.90           0.84   \n",
       "Random Forest Tuned                       0.65            0.88           0.84   \n",
       "Gradient Boosting Classifier              0.52            0.96           0.75   \n",
       "Gradient Boosting Classifier Tuned        0.57            1.00           0.84   \n",
       "Bagging Classifier                        0.51            1.00           0.81   \n",
       "Ada Boosting Classifier                   0.37            0.81           0.54   \n",
       "Soft Voting Classifier                    0.51            1.00           0.90   \n",
       "Hard Voting Classifier                    0.52            0.97           0.85   \n",
       "\n",
       "                                    TrainF1Score  TestF1Score  \n",
       "Logistic Regression                         0.06         0.09  \n",
       "Linear Discriminant Analysis                0.39         0.41  \n",
       "Naive Bayes                                 0.28         0.35  \n",
       "Decision Tree                               1.00         0.54  \n",
       "Decision Tree Tuned                         0.73         0.60  \n",
       "Random Forest                               0.73         0.65  \n",
       "Random Forest Tuned                         0.75         0.73  \n",
       "Gradient Boosting Classifier                0.84         0.62  \n",
       "Gradient Boosting Classifier Tuned          1.00         0.68  \n",
       "Bagging Classifier                          0.97         0.63  \n",
       "Ada Boosting Classifier                     0.65         0.44  \n",
       "Soft Voting Classifier                      0.87         0.65  \n",
       "Hard Voting Classifier                      0.81         0.65  "
      ]
     },
     "execution_count": 34,
     "metadata": {},
     "output_type": "execute_result"
    }
   ],
   "source": [
    "models_list = [lr_model, lda_model, GNB_model, dt_model, gs_dt_tuned, RF_model, gs_rf_tuned, gbc_model, gs_gbc_tuned, bc_model, \n",
    "          abc_model, soft_vc_model, hard_vc_model]\n",
    "\n",
    "index_list = ['Logistic Regression','Linear Discriminant Analysis','Naive Bayes','Decision Tree','Decision Tree Tuned', \n",
    "              'Random Forest','Random Forest Tuned', 'Gradient Boosting Classifier','Gradient Boosting Classifier Tuned',\n",
    "              'Bagging Classifier','Ada Boosting Classifier','Soft Voting Classifier', 'Hard Voting Classifier']\n",
    "\n",
    "all_model_comparison = get_summary_of_models(models_list)\n",
    "\n",
    "all_model_comparison = all_model_comparison.set_index(pd.Index(index_list))\n",
    "\n",
    "all_model_comparison"
   ]
  },
  {
   "cell_type": "code",
   "execution_count": 35,
   "id": "f74a7488",
   "metadata": {},
   "outputs": [
    {
     "data": {
      "text/html": [
       "<div>\n",
       "<style scoped>\n",
       "    .dataframe tbody tr th:only-of-type {\n",
       "        vertical-align: middle;\n",
       "    }\n",
       "\n",
       "    .dataframe tbody tr th {\n",
       "        vertical-align: top;\n",
       "    }\n",
       "\n",
       "    .dataframe thead th {\n",
       "        text-align: right;\n",
       "    }\n",
       "</style>\n",
       "<table border=\"1\" class=\"dataframe\">\n",
       "  <thead>\n",
       "    <tr style=\"text-align: right;\">\n",
       "      <th></th>\n",
       "      <th>Train ROC-AUC Score</th>\n",
       "      <th>Test ROC-AUC Score</th>\n",
       "    </tr>\n",
       "  </thead>\n",
       "  <tbody>\n",
       "    <tr>\n",
       "      <th>Logistic Regression</th>\n",
       "      <td>0.65</td>\n",
       "      <td>0.60</td>\n",
       "    </tr>\n",
       "    <tr>\n",
       "      <th>Linear Discriminant Analysis</th>\n",
       "      <td>0.79</td>\n",
       "      <td>0.77</td>\n",
       "    </tr>\n",
       "    <tr>\n",
       "      <th>Naive Bayes</th>\n",
       "      <td>0.68</td>\n",
       "      <td>0.62</td>\n",
       "    </tr>\n",
       "    <tr>\n",
       "      <th>Decision Tree</th>\n",
       "      <td>1.00</td>\n",
       "      <td>0.74</td>\n",
       "    </tr>\n",
       "    <tr>\n",
       "      <th>Decision Tree Tuned</th>\n",
       "      <td>0.94</td>\n",
       "      <td>0.82</td>\n",
       "    </tr>\n",
       "    <tr>\n",
       "      <th>Random Forest</th>\n",
       "      <td>0.93</td>\n",
       "      <td>0.88</td>\n",
       "    </tr>\n",
       "    <tr>\n",
       "      <th>Random Forest Tuned</th>\n",
       "      <td>0.96</td>\n",
       "      <td>0.88</td>\n",
       "    </tr>\n",
       "    <tr>\n",
       "      <th>Gradient Boosting Classifier</th>\n",
       "      <td>0.97</td>\n",
       "      <td>0.88</td>\n",
       "    </tr>\n",
       "    <tr>\n",
       "      <th>Gradient Boosting Classifier Tuned</th>\n",
       "      <td>1.00</td>\n",
       "      <td>0.89</td>\n",
       "    </tr>\n",
       "    <tr>\n",
       "      <th>Bagging Classifier</th>\n",
       "      <td>1.00</td>\n",
       "      <td>0.87</td>\n",
       "    </tr>\n",
       "    <tr>\n",
       "      <th>Ada Boosting Classifier</th>\n",
       "      <td>0.91</td>\n",
       "      <td>0.81</td>\n",
       "    </tr>\n",
       "  </tbody>\n",
       "</table>\n",
       "</div>"
      ],
      "text/plain": [
       "                                    Train ROC-AUC Score  Test ROC-AUC Score\n",
       "Logistic Regression                                0.65                0.60\n",
       "Linear Discriminant Analysis                       0.79                0.77\n",
       "Naive Bayes                                        0.68                0.62\n",
       "Decision Tree                                      1.00                0.74\n",
       "Decision Tree Tuned                                0.94                0.82\n",
       "Random Forest                                      0.93                0.88\n",
       "Random Forest Tuned                                0.96                0.88\n",
       "Gradient Boosting Classifier                       0.97                0.88\n",
       "Gradient Boosting Classifier Tuned                 1.00                0.89\n",
       "Bagging Classifier                                 1.00                0.87\n",
       "Ada Boosting Classifier                            0.91                0.81"
      ]
     },
     "execution_count": 35,
     "metadata": {},
     "output_type": "execute_result"
    }
   ],
   "source": [
    "models_list = [lr_model, lda_model, GNB_model, dt_model, gs_dt_tuned, RF_model, gs_rf_tuned, gbc_model, gs_gbc_tuned, bc_model, \n",
    "              abc_model]\n",
    "\n",
    "index_list = ['Logistic Regression','Linear Discriminant Analysis','Naive Bayes','Decision Tree','Decision Tree Tuned', \n",
    "              'Random Forest','Random Forest Tuned', 'Gradient Boosting Classifier','Gradient Boosting Classifier Tuned',\n",
    "              'Bagging Classifier','Ada Boosting Classifier']\n",
    "\n",
    "model_auc_score = get_ROC_AUC_score_of_models(models_list)\n",
    "\n",
    "model_auc_score = model_auc_score.set_index(pd.Index(index_list))\n",
    "\n",
    "model_auc_score"
   ]
  },
  {
   "cell_type": "markdown",
   "id": "70184ddc",
   "metadata": {},
   "source": [
    "# 13. StackingCVClassifier"
   ]
  },
  {
   "cell_type": "code",
   "execution_count": 45,
   "id": "06c1be27",
   "metadata": {},
   "outputs": [
    {
     "name": "stdout",
     "output_type": "stream",
     "text": [
      "Accuracy on training set :  0.9955070603337612\n",
      "Accuracy on test set :  0.9203389830508475\n",
      "Recall on training set :  1.0\n",
      "Recall on test set :  0.6162790697674418\n",
      "Precision on training set :  0.9808743169398907\n",
      "Precision on test set :  0.7910447761194029\n",
      "F1-Score on training set :  0.9903448275862068\n",
      "F1-Score on test set :  0.6928104575163397\n",
      "Classification Report for Training Data- \n",
      "               precision    recall  f1-score   support\n",
      "\n",
      "           0       1.00      0.99      1.00      1199\n",
      "           1       0.98      1.00      0.99       359\n",
      "\n",
      "    accuracy                           1.00      1558\n",
      "   macro avg       0.99      1.00      0.99      1558\n",
      "weighted avg       1.00      1.00      1.00      1558\n",
      "\n",
      "Classification Report for Test Data- \n",
      "               precision    recall  f1-score   support\n",
      "\n",
      "           0       0.94      0.97      0.95       504\n",
      "           1       0.79      0.62      0.69        86\n",
      "\n",
      "    accuracy                           0.92       590\n",
      "   macro avg       0.86      0.79      0.82       590\n",
      "weighted avg       0.92      0.92      0.92       590\n",
      "\n",
      "Confusion Matrix for Training Data- \n",
      " [[1192    7]\n",
      " [   0  359]]\n",
      "\n",
      "Confusion Matrix for Test Data - \n",
      " [[490  14]\n",
      " [ 33  53]]\n"
     ]
    }
   ],
   "source": [
    "from mlxtend.classifier import StackingCVClassifier\n",
    "\n",
    "stack_clf_model = StackingCVClassifier(classifiers= models_list,\n",
    "                                       shuffle = False,\n",
    "                                       use_probas = True,\n",
    "                                       cv = 5,\n",
    "                                       meta_classifier = gs_rf_tuned\n",
    "                                      )\n",
    "stack_clf_model.fit(X_train,y_train)\n",
    "\n",
    "# make predictions for train data\n",
    "y_stack_clf_train_predicted = stack_clf_model.predict(X_train)\n",
    "\n",
    "# make predictions for test data\n",
    "y_stack_clf_test_predicted = stack_clf_model.predict(X_test)\n",
    "stack_clf_score=get_metrics_score(stack_clf_model,X_train, X_test, y_train, y_test)\n",
    "\n",
    "# summarize the fit of the model\n",
    "print('Classification Report for Training Data- \\n',classification_report(y_train, y_stack_clf_train_predicted))\n",
    "print('Classification Report for Test Data- \\n',classification_report(y_test, y_stack_clf_test_predicted))\n",
    "print('Confusion Matrix for Training Data- \\n',confusion_matrix(y_train, y_stack_clf_train_predicted))\n",
    "print('\\nConfusion Matrix for Test Data - \\n',confusion_matrix(y_test, y_stack_clf_test_predicted))"
   ]
  },
  {
   "cell_type": "markdown",
   "id": "98c7f2cc",
   "metadata": {},
   "source": [
    "## Random Forest Tuned seems to be the best performing model in all parameters."
   ]
  }
 ],
 "metadata": {
  "kernelspec": {
   "display_name": "Python 3 (ipykernel)",
   "language": "python",
   "name": "python3"
  },
  "language_info": {
   "codemirror_mode": {
    "name": "ipython",
    "version": 3
   },
   "file_extension": ".py",
   "mimetype": "text/x-python",
   "name": "python",
   "nbconvert_exporter": "python",
   "pygments_lexer": "ipython3",
   "version": "3.10.9"
  }
 },
 "nbformat": 4,
 "nbformat_minor": 5
}
